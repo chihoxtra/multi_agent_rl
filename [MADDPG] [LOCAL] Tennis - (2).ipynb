{
 "cells": [
  {
   "cell_type": "markdown",
   "metadata": {},
   "source": [
    "# Collaboration and Competition\n",
    "---\n",
    "\n",
    "In this notebook, you will learn how to use the Unity ML-Agents environment for the third project of the [Deep Reinforcement Learning Nanodegree](https://www.udacity.com/course/deep-reinforcement-learning-nanodegree--nd893) program.\n",
    "\n",
    "### 1. Start the Environment\n",
    "\n",
    "We begin by importing the necessary packages.  If the code cell below returns an error, please revisit the project instructions to double-check that you have installed [Unity ML-Agents](https://github.com/Unity-Technologies/ml-agents/blob/master/docs/Installation.md) and [NumPy](http://www.numpy.org/)."
   ]
  },
  {
   "cell_type": "code",
   "execution_count": 1,
   "metadata": {},
   "outputs": [],
   "source": [
    "import torch\n",
    "import numpy as np\n",
    "from unityagents import UnityEnvironment\n",
    "import os"
   ]
  },
  {
   "cell_type": "markdown",
   "metadata": {},
   "source": [
    "Next, we will start the environment!  **_Before running the code cell below_**, change the `file_name` parameter to match the location of the Unity environment that you downloaded.\n",
    "\n",
    "- **Mac**: `\"path/to/Tennis.app\"`\n",
    "- **Windows** (x86): `\"path/to/Tennis_Windows_x86/Tennis.exe\"`\n",
    "- **Windows** (x86_64): `\"path/to/Tennis_Windows_x86_64/Tennis.exe\"`\n",
    "- **Linux** (x86): `\"path/to/Tennis_Linux/Tennis.x86\"`\n",
    "- **Linux** (x86_64): `\"path/to/Tennis_Linux/Tennis.x86_64\"`\n",
    "- **Linux** (x86, headless): `\"path/to/Tennis_Linux_NoVis/Tennis.x86\"`\n",
    "- **Linux** (x86_64, headless): `\"path/to/Tennis_Linux_NoVis/Tennis.x86_64\"`\n",
    "\n",
    "For instance, if you are using a Mac, then you downloaded `Tennis.app`.  If this file is in the same folder as the notebook, then the line below should appear as follows:\n",
    "```\n",
    "env = UnityEnvironment(file_name=\"Tennis.app\")\n",
    "```"
   ]
  },
  {
   "cell_type": "code",
   "execution_count": 2,
   "metadata": {},
   "outputs": [
    {
     "name": "stderr",
     "output_type": "stream",
     "text": [
      "INFO:unityagents:\n",
      "'Academy' started successfully!\n",
      "Unity Academy name: Academy\n",
      "        Number of Brains: 1\n",
      "        Number of External Brains : 1\n",
      "        Lesson number : 0\n",
      "        Reset Parameters :\n",
      "\t\t\n",
      "Unity brain name: TennisBrain\n",
      "        Number of Visual Observations (per agent): 0\n",
      "        Vector Observation space type: continuous\n",
      "        Vector Observation space size (per agent): 8\n",
      "        Number of stacked Vector Observation: 3\n",
      "        Vector Action space type: continuous\n",
      "        Vector Action space size (per agent): 2\n",
      "        Vector Action descriptions: , \n"
     ]
    }
   ],
   "source": [
    "env = UnityEnvironment(file_name=\"Tennis.app\", worker_id=303)"
   ]
  },
  {
   "cell_type": "markdown",
   "metadata": {},
   "source": [
    "Environments contain **_brains_** which are responsible for deciding the actions of their associated agents. Here we check for the first brain available, and set it as the default brain we will be controlling from Python."
   ]
  },
  {
   "cell_type": "markdown",
   "metadata": {},
   "source": [
    "### 2. Examine the State and Action Spaces\n",
    "\n",
    "In this environment, two agents control rackets to bounce a ball over a net. If an agent hits the ball over the net, it receives a reward of +0.1.  If an agent lets a ball hit the ground or hits the ball out of bounds, it receives a reward of -0.01.  Thus, the goal of each agent is to keep the ball in play.\n",
    "\n",
    "The observation space consists of 8 variables corresponding to the position and velocity of the ball and racket. Two continuous actions are available, corresponding to movement toward (or away from) the net, and jumping. \n",
    "\n",
    "Run the code cell below to print some information about the environment."
   ]
  },
  {
   "cell_type": "code",
   "execution_count": 3,
   "metadata": {},
   "outputs": [
    {
     "name": "stdout",
     "output_type": "stream",
     "text": [
      "Number of agents: 2\n",
      "Size of each action: 2\n",
      "There are 2 agents. Each observes a state with length: 24\n",
      "The state for the first agent looks like: [ 0.          0.          0.          0.          0.          0.\n",
      "  0.          0.          0.          0.          0.          0.\n",
      "  0.          0.          0.          0.         -6.65278625 -1.5\n",
      " -0.          0.          6.83172083  6.         -0.          0.        ]\n"
     ]
    }
   ],
   "source": [
    "# get the default brain\n",
    "brain_name = env.brain_names[0]\n",
    "brain = env.brains[brain_name]\n",
    "\n",
    "# reset the environment\n",
    "env_info = env.reset(train_mode=True)[brain_name]\n",
    "\n",
    "# number of agents \n",
    "num_agents = len(env_info.agents)\n",
    "print('Number of agents:', num_agents)\n",
    "\n",
    "# size of each action\n",
    "action_size = brain.vector_action_space_size\n",
    "print('Size of each action:', action_size)\n",
    "\n",
    "# examine the state space \n",
    "states = env_info.vector_observations\n",
    "state_size = states.shape[1]\n",
    "print('There are {} agents. Each observes a state with length: {}'.format(states.shape[0], state_size))\n",
    "print('The state for the first agent looks like:', states[0])"
   ]
  },
  {
   "cell_type": "markdown",
   "metadata": {},
   "source": [
    "### 3. Take Random Actions in the Environment\n",
    "\n",
    "In the next code cell, you will learn how to use the Python API to control the agents and receive feedback from the environment.\n",
    "\n",
    "Once this cell is executed, you will watch the agents' performance, if they select actions at random with each time step.  A window should pop up that allows you to observe the agents.\n",
    "\n",
    "Of course, as part of the project, you'll have to change the code so that the agents are able to use their experiences to gradually choose better actions when interacting with the environment!"
   ]
  },
  {
   "cell_type": "code",
   "execution_count": 4,
   "metadata": {},
   "outputs": [
    {
     "name": "stdout",
     "output_type": "stream",
     "text": [
      "Score (max over agents) from episode 1: 0.0\n",
      "Score (max over agents) from episode 2: 0.0\n",
      "Score (max over agents) from episode 3: 0.0\n",
      "Score (max over agents) from episode 4: 0.0\n"
     ]
    }
   ],
   "source": [
    "for i in range(1, 5):                                      # play game for 5 episodes\n",
    "    env_info = env.reset(train_mode=False)[brain_name]     # reset the environment    \n",
    "    states = env_info.vector_observations                  # get the current state (for each agent)\n",
    "    scores = np.zeros(num_agents)                          # initialize the score (for each agent)\n",
    "    while True:\n",
    "        actions = np.random.randn(num_agents, action_size) # select an action (for each agent)\n",
    "        actions = np.clip(actions, -1, 1)                  # all actions between -1 and 1\n",
    "        env_info = env.step(actions)[brain_name]           # send all actions to tne environment\n",
    "        next_states = env_info.vector_observations         # get next state (for each agent)\n",
    "        rewards = env_info.rewards                         # get reward (for each agent)\n",
    "        dones = env_info.local_done                        # see if episode finished\n",
    "        scores += env_info.rewards                         # update the score (for each agent)\n",
    "        states = next_states                               # roll over states to next time step\n",
    "        if np.any(dones):                                  # exit loop if episode finished\n",
    "            break\n",
    "    print('Score (max over agents) from episode {}: {}'.format(i, np.max(scores)))"
   ]
  },
  {
   "cell_type": "markdown",
   "metadata": {},
   "source": [
    "When finished, you can close the environment."
   ]
  },
  {
   "cell_type": "code",
   "execution_count": 5,
   "metadata": {},
   "outputs": [],
   "source": [
    "#env.close()"
   ]
  },
  {
   "cell_type": "markdown",
   "metadata": {},
   "source": [
    "### 4. It's Your Turn!\n",
    "\n",
    "Now it's your turn to train your own agent to solve the environment!  When training the environment, set `train_mode=True`, so that the line for resetting the environment looks like the following:\n",
    "```python\n",
    "env_info = env.reset(train_mode=True)[brain_name]\n",
    "```"
   ]
  },
  {
   "cell_type": "code",
   "execution_count": 6,
   "metadata": {},
   "outputs": [
    {
     "name": "stdout",
     "output_type": "stream",
     "text": [
      "critic output use activation:  False\n",
      "critic output use activation:  False\n",
      "critic output use activation:  False\n",
      "critic output use activation:  False\n"
     ]
    }
   ],
   "source": [
    "from ma_ddpg import MADDPG\n",
    "\n",
    "model_dir = 'saved_models/'\n",
    "model_name = 'multi-agents_' + str(brain_name) + '_' + str(num_agents) + '_agents.pt'\n",
    "\n",
    "os.makedirs(model_dir, exist_ok=True)\n",
    "\n",
    "episode_max = 10000\n",
    "rollout_len = 1000\n",
    "\n",
    "ma_ddpg = MADDPG(state_size, action_size, num_agents, seed=0)"
   ]
  },
  {
   "cell_type": "code",
   "execution_count": 7,
   "metadata": {},
   "outputs": [],
   "source": [
    "def saveTrainedModel(agent, path):\n",
    "    state_dicts = {}\n",
    "    for i in range(num_agents):\n",
    "        state_dicts['model_agent' + str(i)] = {'actor_local': ma_ddpg.agents_list[i].actor_local.state_dict(), \n",
    "                                               'critic_local': ma_ddpg.agents_list[i].critic_local.state_dict(), \n",
    "                                               'actor_target': ma_ddpg.agents_list[i].actor_target.state_dict(), \n",
    "                                               'critic_target': ma_ddpg.agents_list[i].critic_target.state_dict()}\n",
    "    torch.save(state_dicts, path)"
   ]
  },
  {
   "cell_type": "code",
   "execution_count": 8,
   "metadata": {},
   "outputs": [
    {
     "name": "stdout",
     "output_type": "stream",
     "text": [
      "Fetching experiences... 9992 Prefetch experience completed. Training starts! \n",
      "Number of Agents:  2\n",
      "Device:  cpu\n",
      "BATCH_SIZE:  256\n",
      "LR_ACTOR:  0.0005\n",
      "LR_CRITIC:  0.001\n",
      "REWARD_NORM:  False\n",
      "REWARD_SCALE:  1.0\n",
      "LEARN_EVERY:  20\n",
      "LEARN_LOOP:  15\n",
      "UNITS_ACTOR:  (512, 256)\n",
      "UNITS_CRITIC:  (512, 256)\n",
      "USE_OUNOISE:  True\n",
      "NOISE_WGT_INIT:  1.0\n",
      "OUNOISE_SIGMA:  0.05\n",
      "NOISE_WGT_DECAY:  0.9995\n",
      "NOISE_DC_START:  10000\n",
      "NOISE_WGT_MIN:  0.1\n",
      "TARGET_NOISE:  False\n",
      "USE_PER:  False\n",
      "P_REPLAY_ALPHA:  0.7\n",
      "P_REPLAY_BETA:  0.5\n",
      "\n",
      "e: 50  score(s): -0.003 -0.003  Avg score: 0.004  Actor(g): -1.97e-02  Critic(l): 4.41e-05  n: 0.04  s: 10761\n",
      "e: 100  score(s): 0.001 -0.005  Avg score: 0.006  Actor(g): -1.72e-02  Critic(l): 4.34e-05  n: 0.02  s: 11558\n",
      "e: 150  score(s): 0.003 0.003  Avg score: 0.014  Actor(g): -1.45e-02  Critic(l): 3.85e-05  n: 0.01  s: 12446\n",
      "e: 200  score(s): 0.005 0.022  Avg score: 0.029  Actor(g): -1.11e-02  Critic(l): 4.15e-05  n: 0.01  s: 13619\n",
      "e: 250  score(s): 0.007 0.036  Avg score: 0.043  Actor(g): -7.86e-03  Critic(l): 4.90e-05  n: 0.01  s: 14784\n",
      "e: 300  score(s): 0.001 0.022  Avg score: 0.029  Actor(g): -5.42e-03  Critic(l): 4.70e-05  n: 0.01  s: 15585\n",
      "e: 350  score(s): -0.004 0.000  Avg score: 0.006  Actor(g): -3.79e-03  Critic(l): 4.52e-05  n: 0.01  s: 16293\n",
      "e: 400  score(s): -0.005 -0.005  Avg score: 0.000  Actor(g): -2.36e-03  Critic(l): 3.81e-05  n: 0.01  s: 17016\n",
      "e: 450  score(s): -0.001 -0.004  Avg score: 0.004  Actor(g): -4.95e-04  Critic(l): 4.86e-05  n: 0.01  s: 17806\n",
      "e: 500  score(s): 0.002 -0.004  Avg score: 0.007  Actor(g): 1.05e-03  Critic(l): 3.94e-05  n: 0.01  s: 18575\n",
      "e: 550  score(s): 0.004 -0.001  Avg score: 0.012  Actor(g): 5.05e-03  Critic(l): 5.19e-05  n: 0.01  s: 19473\n",
      "e: 600  score(s): 0.014 0.027  Avg score: 0.042  Actor(g): 1.40e-02  Critic(l): 7.83e-05  n: 0.01  s: 20938\n",
      "e: 650  score(s): 0.034 0.059  Avg score: 0.080  Actor(g): 2.53e-02  Critic(l): 1.03e-04  n: 0.01  s: 22766\n",
      "e: 700  score(s): 0.049 0.037  Avg score: 0.074  Actor(g): 3.48e-02  Critic(l): 1.12e-04  n: 0.01  s: 24093\n",
      "e: 750  score(s): 0.062 0.023  Avg score: 0.069  Actor(g): 4.65e-02  Critic(l): 1.21e-04  n: 0.01  s: 25976\n",
      "e: 800  score(s): 0.088 0.066  Avg score: 0.105  Actor(g): 5.55e-02  Critic(l): 1.35e-04  n: 0.01  s: 28620\n",
      "e: 850  score(s): 0.103 0.076  Avg score: 0.115  Actor(g): 6.28e-02  Critic(l): 1.49e-04  n: 0.01  s: 30957\n",
      "e: 900  score(s): 0.177 0.134  Avg score: 0.186  Actor(g): 8.18e-02  Critic(l): 1.90e-04  n: 0.01  s: 36193\n",
      "e: 950  score(s): 0.369 0.341  Avg score: 0.392  Actor(g): 1.28e-01  Critic(l): 2.93e-04  n: 0.01  s: 46294\n",
      "\u001b[32m env solved at episode 867! Average Score: 0.5004000075347722\n"
     ]
    }
   ],
   "source": [
    "agents_scores_history = [[] for _ in range(num_agents)]\n",
    "max_episodic_scores_history = []\n",
    "average_scores_history = []\n",
    "t_history = []\n",
    "e = 0\n",
    "isSolved = False\n",
    "solved_episode = -1\n",
    "\n",
    "while e < episode_max:\n",
    "    \n",
    "    env_info = env.reset(train_mode=True)[brain_name]      # reset the environment    \n",
    "    ma_ddpg.noise_reset()                                  # reset noise of the agent    \n",
    "    states = env_info.vector_observations                  # get the current state np array :num_agents x state_size\n",
    "    running_score = np.zeros(num_agents)                   # initialize the score (for each agent)\n",
    "    \n",
    "    t = 0\n",
    "    \n",
    "    while True:\n",
    "        actions_list = ma_ddpg.acts(states)                # select an action (for each agent)\n",
    "        actor_tensor = torch.stack(actions_list).cpu().detach()\n",
    "        actions = np.clip(actor_tensor.numpy(), -1, 1)     # all actions between -1 and 1 #num_agents x action_size\n",
    "        env_info = env.step(actions)[brain_name]           # send all actions to tne environment\n",
    "        next_states = env_info.vector_observations         # get next state (# num_agents x state_size)\n",
    "        rewards = env_info.rewards                         # get reward (for each agent)\n",
    "        dones = env_info.local_done                        # see if episode finished\n",
    "        \n",
    "        ma_ddpg.step((states, actor_tensor, rewards, dones, next_states))\n",
    "        \n",
    "        running_score += rewards                           # update the score (for each agent)\n",
    "        states = next_states                               # roll over states to next time step\n",
    "        if np.any(dones) or t >= rollout_len:   \n",
    "            t_history.append(t)\n",
    "            break\n",
    "            \n",
    "        t += 1\n",
    "\n",
    "    for i in range(num_agents):\n",
    "        agents_scores_history[i].append(running_score[i])\n",
    "        \n",
    "    max_episodic_scores_history.append(np.max(running_score))\n",
    "    \n",
    "    avg_100_score = np.mean(max_episodic_scores_history[-100:])\n",
    "    average_scores_history.append(avg_100_score)\n",
    "\n",
    "    if ma_ddpg.is_training:\n",
    "        if (e+1)%50==0:\n",
    "            print(\"e: {}  score(s): {:.3f} {:.3f}  Avg score: {:.3f}  \"\n",
    "                  \"Actor(g): {:.2e}  Critic(l): {:.2e}  n: {:.2f}  \"\n",
    "                  \"s: {}\".format(e+1, np.mean(agents_scores_history[0][-100:]), \n",
    "                                     np.mean(agents_scores_history[1][-100:]), \n",
    "                                     avg_100_score,\n",
    "                                     np.mean(ma_ddpg.ag_history), \n",
    "                                     np.mean(ma_ddpg.cl_history),\n",
    "                                     np.mean(ma_ddpg.noise_history), \n",
    "                                     ma_ddpg.t_step))\n",
    "            \n",
    "        if not isSolved and avg_100_score >= 0.5:\n",
    "            print('\\033[32m env solved at episode {}! Average Score: {}'.format(e-100, avg_100_score))\n",
    "            isSolved = True\n",
    "        if isSolved and e >= solved_episode+500:\n",
    "            break #run for 100 more episodes after solving   \n",
    "            \n",
    "        e+=1\n",
    "    else:\n",
    "        print('\\rFetching experiences... {} '.format(ma_ddpg.t_step), end=\"\")"
   ]
  },
  {
   "cell_type": "code",
   "execution_count": 9,
   "metadata": {},
   "outputs": [],
   "source": [
    "saveTrainedModel(ma_ddpg, model_dir + model_name)"
   ]
  },
  {
   "cell_type": "code",
   "execution_count": 10,
   "metadata": {},
   "outputs": [
    {
     "data": {
      "image/png": "[encoded data removed]",
      "text/plain": [
       "<Figure size 432x288 with 1 Axes>"
      ]
     },
     "metadata": {},
     "output_type": "display_data"
    }
   ],
   "source": [
    "# plot the scores\n",
    "import matplotlib.pyplot as plt\n",
    "%matplotlib inline\n",
    "\n",
    "fig = plt.figure()\n",
    "ax = fig.add_subplot(111)\n",
    "plt.plot(np.arange(len(max_episodic_scores_history)), max_episodic_scores_history, label='episode max score across agents')\n",
    "plt.plot(np.arange(len(average_scores_history)), average_scores_history, label='average score across 100 episodes') # plotting t, c separately \n",
    "plt.legend(loc='upper left')\n",
    "plt.ylabel('Score')\n",
    "plt.xlabel('Episode #')\n",
    "plt.show()"
   ]
  },
  {
   "cell_type": "code",
   "execution_count": 12,
   "metadata": {},
   "outputs": [
    {
     "name": "stdout",
     "output_type": "stream",
     "text": [
      "Score (max over agents) from episode 1: 0.5000000074505806\n",
      "Score (max over agents) from episode 2: 0.20000000298023224\n",
      "Score (max over agents) from episode 3: 0.30000000447034836\n",
      "Score (max over agents) from episode 4: 0.4000000059604645\n"
     ]
    }
   ],
   "source": [
    "# test the trained model\n",
    "for i in range(1, 5):                                      # play game for 5 episodes\n",
    "    env_info = env.reset(train_mode=False)[brain_name]     # reset the environment    \n",
    "    states = env_info.vector_observations                  # get the current state (for each agent)\n",
    "    scores = np.zeros(num_agents)                          # initialize the score (for each agent)\n",
    "    while True:\n",
    "        actions_list = ma_ddpg.acts(states)                # select an action (for each agent)\n",
    "        actor_tensor = torch.stack(actions_list).cpu().detach()\n",
    "        actions = np.clip(actor_tensor.numpy(), -1, 1)     # all actions between -1 and 1 #num_agents x action_size\n",
    "        env_info = env.step(actions)[brain_name]           # send all actions to tne environment\n",
    "        next_states = env_info.vector_observations         # get next state (for each agent)\n",
    "        rewards = env_info.rewards                         # get reward (for each agent)\n",
    "        dones = env_info.local_done                        # see if episode finished\n",
    "        scores += env_info.rewards                         # update the score (for each agent)\n",
    "        states = next_states                               # roll over states to next time step\n",
    "        if np.any(dones):                                  # exit loop if episode finished\n",
    "            break\n",
    "    print('Score (max over agents) from episode {}: {}'.format(i, np.max(scores)))"
   ]
  },
  {
   "cell_type": "code",
   "execution_count": null,
   "metadata": {},
   "outputs": [],
   "source": [
    "env.close()"
   ]
  },
  {
   "cell_type": "code",
   "execution_count": null,
   "metadata": {},
   "outputs": [],
   "source": []
  }
 ],
 "metadata": {
  "kernelspec": {
   "display_name": "Python 3",
   "language": "python",
   "name": "python3"
  },
  "language_info": {
   "codemirror_mode": {
    "name": "ipython",
    "version": 3
   },
   "file_extension": ".py",
   "mimetype": "text/x-python",
   "name": "python",
   "nbconvert_exporter": "python",
   "pygments_lexer": "ipython3",
   "version": "3.5.5"
  }
 },
 "nbformat": 4,
 "nbformat_minor": 2
}
