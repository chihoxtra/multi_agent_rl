{
 "cells": [
  {
   "cell_type": "markdown",
   "metadata": {},
   "source": [
    "#################################################################################################################################################################################################################################################################################################################################################\n",
    "# Collaboration and Competition\n",
    "---\n",
    "\n",
    "In this notebook, you will learn how to use the Unity ML-Agents environment for the third project of the [Deep Reinforcement Learning Nanodegree](https://www.udacity.com/course/deep-reinforcement-learning-nanodegree--nd893) program.\n",
    "\n",
    "### 1. Start the Environment\n",
    "\n",
    "We begin by importing the necessary packages.  If the code cell below returns an error, please revisit the project instructions to double-check that you have installed [Unity ML-Agents](https://github.com/Unity-Technologies/ml-agents/blob/master/docs/Installation.md) and [NumPy](http://www.numpy.org/)."
   ]
  },
  {
   "cell_type": "code",
   "execution_count": 1,
   "metadata": {},
   "outputs": [],
   "source": [
    "import torch\n",
    "import numpy as np\n",
    "from unityagents import UnityEnvironment\n",
    "import os"
   ]
  },
  {
   "cell_type": "markdown",
   "metadata": {},
   "source": [
    "Next, we will start the environment!  **_Before running the code cell below_**, change the `file_name` parameter to match the location of the Unity environment that you downloaded.\n",
    "\n",
    "- **Mac**: `\"path/to/Tennis.app\"`\n",
    "- **Windows** (x86): `\"path/to/Tennis_Windows_x86/Tennis.exe\"`\n",
    "- **Windows** (x86_64): `\"path/to/Tennis_Windows_x86_64/Tennis.exe\"`\n",
    "- **Linux** (x86): `\"path/to/Tennis_Linux/Tennis.x86\"`\n",
    "- **Linux** (x86_64): `\"path/to/Tennis_Linux/Tennis.x86_64\"`\n",
    "- **Linux** (x86, headless): `\"path/to/Tennis_Linux_NoVis/Tennis.x86\"`\n",
    "- **Linux** (x86_64, headless): `\"path/to/Tennis_Linux_NoVis/Tennis.x86_64\"`\n",
    "\n",
    "For instance, if you are using a Mac, then you downloaded `Tennis.app`.  If this file is in the same folder as the notebook, then the line below should appear as follows:\n",
    "```\n",
    "env = UnityEnvironment(file_name=\"Tennis.app\")\n",
    "```"
   ]
  },
  {
   "cell_type": "code",
   "execution_count": 2,
   "metadata": {},
   "outputs": [
    {
     "name": "stderr",
     "output_type": "stream",
     "text": [
      "INFO:unityagents:\n",
      "'Academy' started successfully!\n",
      "Unity Academy name: Academy\n",
      "        Number of Brains: 1\n",
      "        Number of External Brains : 1\n",
      "        Lesson number : 0\n",
      "        Reset Parameters :\n",
      "\t\t\n",
      "Unity brain name: TennisBrain\n",
      "        Number of Visual Observations (per agent): 0\n",
      "        Vector Observation space type: continuous\n",
      "        Vector Observation space size (per agent): 8\n",
      "        Number of stacked Vector Observation: 3\n",
      "        Vector Action space type: continuous\n",
      "        Vector Action space size (per agent): 2\n",
      "        Vector Action descriptions: , \n"
     ]
    }
   ],
   "source": [
    "env = UnityEnvironment(file_name=\"Tennis.app\", worker_id=303)"
   ]
  },
  {
   "cell_type": "markdown",
   "metadata": {},
   "source": [
    "Environments contain **_brains_** which are responsible for deciding the actions of their associated agents. Here we check for the first brain available, and set it as the default brain we will be controlling from Python."
   ]
  },
  {
   "cell_type": "markdown",
   "metadata": {},
   "source": [
    "### 2. Examine the State and Action Spaces\n",
    "\n",
    "In this environment, two agents control rackets to bounce a ball over a net. If an agent hits the ball over the net, it receives a reward of +0.1.  If an agent lets a ball hit the ground or hits the ball out of bounds, it receives a reward of -0.01.  Thus, the goal of each agent is to keep the ball in play.\n",
    "\n",
    "The observation space consists of 8 variables corresponding to the position and velocity of the ball and racket. Two continuous actions are available, corresponding to movement toward (or away from) the net, and jumping. \n",
    "\n",
    "Run the code cell below to print some information about the environment."
   ]
  },
  {
   "cell_type": "code",
   "execution_count": 3,
   "metadata": {},
   "outputs": [
    {
     "name": "stdout",
     "output_type": "stream",
     "text": [
      "Number of agents: 2\n",
      "Size of each action: 2\n",
      "There are 2 agents. Each observes a state with length: 24\n",
      "The state for the first agent looks like: [ 0.          0.          0.          0.          0.          0.\n",
      "  0.          0.          0.          0.          0.          0.\n",
      "  0.          0.          0.          0.         -6.65278625 -1.5\n",
      " -0.          0.          6.83172083  6.         -0.          0.        ]\n"
     ]
    }
   ],
   "source": [
    "# get the default brain\n",
    "brain_name = env.brain_names[0]\n",
    "brain = env.brains[brain_name]\n",
    "\n",
    "# reset the environment\n",
    "env_info = env.reset(train_mode=True)[brain_name]\n",
    "\n",
    "# number of agents \n",
    "num_agents = len(env_info.agents)\n",
    "print('Number of agents:', num_agents)\n",
    "\n",
    "# size of each action\n",
    "action_size = brain.vector_action_space_size\n",
    "print('Size of each action:', action_size)\n",
    "\n",
    "# examine the state space \n",
    "states = env_info.vector_observations\n",
    "state_size = states.shape[1]\n",
    "print('There are {} agents. Each observes a state with length: {}'.format(states.shape[0], state_size))\n",
    "print('The state for the first agent looks like:', states[0])"
   ]
  },
  {
   "cell_type": "markdown",
   "metadata": {},
   "source": [
    "### 3. Take Random Actions in the Environment\n",
    "\n",
    "In the next code cell, you will learn how to use the Python API to control the agents and receive feedback from the environment.\n",
    "\n",
    "Once this cell is executed, you will watch the agents' performance, if they select actions at random with each time step.  A window should pop up that allows you to observe the agents.\n",
    "\n",
    "Of course, as part of the project, you'll have to change the code so that the agents are able to use their experiences to gradually choose better actions when interacting with the environment!"
   ]
  },
  {
   "cell_type": "code",
   "execution_count": 4,
   "metadata": {},
   "outputs": [
    {
     "name": "stdout",
     "output_type": "stream",
     "text": [
      "Score (max over agents) from episode 1: 0.0\n",
      "Score (max over agents) from episode 2: 0.0\n",
      "Score (max over agents) from episode 3: 0.0\n",
      "Score (max over agents) from episode 4: 0.0\n"
     ]
    }
   ],
   "source": [
    "for i in range(1, 5):                                      # play game for 5 episodes\n",
    "    env_info = env.reset(train_mode=False)[brain_name]     # reset the environment    \n",
    "    states = env_info.vector_observations                  # get the current state (for each agent)\n",
    "    scores = np.zeros(num_agents)                          # initialize the score (for each agent)\n",
    "    while True:\n",
    "        actions = np.random.randn(num_agents, action_size) # select an action (for each agent)\n",
    "        actions = np.clip(actions, -1, 1)                  # all actions between -1 and 1\n",
    "        env_info = env.step(actions)[brain_name]           # send all actions to tne environment\n",
    "        next_states = env_info.vector_observations         # get next state (for each agent)\n",
    "        rewards = env_info.rewards                         # get reward (for each agent)\n",
    "        dones = env_info.local_done                        # see if episode finished\n",
    "        scores += env_info.rewards                         # update the score (for each agent)\n",
    "        states = next_states                               # roll over states to next time step\n",
    "        if np.any(dones):                                  # exit loop if episode finished\n",
    "            break\n",
    "    print('Score (max over agents) from episode {}: {}'.format(i, np.max(scores)))"
   ]
  },
  {
   "cell_type": "markdown",
   "metadata": {},
   "source": [
    "When finished, you can close the environment."
   ]
  },
  {
   "cell_type": "code",
   "execution_count": 5,
   "metadata": {},
   "outputs": [],
   "source": [
    "#env.close()"
   ]
  },
  {
   "cell_type": "markdown",
   "metadata": {},
   "source": [
    "### 4. It's Your Turn!\n",
    "\n",
    "Now it's your turn to train your own agent to solve the environment!  When training the environment, set `train_mode=True`, so that the line for resetting the environment looks like the following:\n",
    "```python\n",
    "env_info = env.reset(train_mode=True)[brain_name]\n",
    "```"
   ]
  },
  {
   "cell_type": "code",
   "execution_count": 6,
   "metadata": {},
   "outputs": [],
   "source": [
    "from ma_ddpg import MADDPG\n",
    "\n",
    "model_dir = 'saved_models/'\n",
    "model_name = 'multi-agents_' + str(brain_name) + '_' + str(num_agents) + '_agents.pt'\n",
    "\n",
    "os.makedirs(model_dir, exist_ok=True)\n",
    "\n",
    "episode_max = 5000\n",
    "rollout_len = 1000\n",
    "\n",
    "ma_ddpg = MADDPG(state_size, action_size, num_agents, seed=12345)"
   ]
  },
  {
   "cell_type": "code",
   "execution_count": 7,
   "metadata": {},
   "outputs": [],
   "source": [
    "def saveTrainedModel(agent, path):\n",
    "    state_dicts = {}\n",
    "    for i in range(num_agents):\n",
    "        state_dicts['model_agent' + str(i)] = {'actor_local': ma_ddpg.agents_list[i].actor_local.state_dict(), \n",
    "                                               'critic_local': ma_ddpg.agents_list[i].critic_local.state_dict(), \n",
    "                                               'actor_target': ma_ddpg.agents_list[i].actor_target.state_dict(), \n",
    "                                               'critic_target': ma_ddpg.agents_list[i].critic_target.state_dict()}\n",
    "    torch.save(state_dicts, path)"
   ]
  },
  {
   "cell_type": "code",
   "execution_count": null,
   "metadata": {},
   "outputs": [
    {
     "name": "stdout",
     "output_type": "stream",
     "text": [
      "Fetching experiences... 990 Prefetch experience completed. Training starts! \n",
      "Number of Agents:  2\n",
      "Device:  cpu\n",
      "BATCH_SIZE:  512\n",
      "LR_ACTOR:  0.0001\n",
      "LR_CRITIC:  0.0001\n",
      "REWARD_NORM:  False\n",
      "REWARD_SCALE:  1.0\n",
      "LEARN_EVERY:  20\n",
      "LEARN_LOOP:  10\n",
      "UNITS_ACTOR:  (512, 256)\n",
      "UNITS_CRITIC:  (512, 256)\n",
      "NOISE_WGT_INIT:  1.0\n",
      "NOISE_WGT_DECAY:  0.9995\n",
      "NOISE_DECAY_EVERY:  5\n",
      "NOISE_WGT_MIN:  0.15\n",
      "TARGET_NOISE:  False\n",
      "USE_PER:  True\n",
      "CRITIC_ACT_FORM:  1\n",
      "e: 20  score(s): -0.002 -0.002  Avg score: 0.006  Actor(g): 6.68e-03  Critic(l): 2.58e-05  n: 0.30  td: 0.011\n",
      "e: 40  score(s): -0.001 -0.001  Avg score: 0.008  Actor(g): 6.68e-03  Critic(l): 2.15e-05  n: 0.24  td: 0.010\n",
      "e: 60  score(s): -0.000 -0.002  Avg score: 0.007  Actor(g): 6.04e-03  Critic(l): 1.85e-05  n: 0.27  td: 0.009\n",
      "e: 80  score(s): 0.001 0.001  Avg score: 0.009  Actor(g): 5.77e-03  Critic(l): 1.65e-05  n: 0.26  td: 0.009\n",
      "e: 100  score(s): 0.002 0.001  Avg score: 0.011  Actor(g): 5.42e-03  Critic(l): 1.55e-05  n: 0.22  td: 0.009\n",
      "e: 120  score(s): 0.008 0.001  Avg score: 0.017  Actor(g): 4.94e-03  Critic(l): 1.53e-05  n: 0.26  td: 0.010\n",
      "e: 140  score(s): 0.008 0.000  Avg score: 0.016  Actor(g): 4.63e-03  Critic(l): 1.30e-05  n: 0.23  td: 0.009\n",
      "e: 160  score(s): 0.009 0.004  Avg score: 0.020  Actor(g): 4.40e-03  Critic(l): 1.22e-05  n: 0.23  td: 0.009\n",
      "e: 180  score(s): 0.008 0.006  Avg score: 0.021  Actor(g): 4.08e-03  Critic(l): 1.06e-05  n: 0.23  td: 0.009\n",
      "e: 200  score(s): 0.006 0.006  Avg score: 0.019  Actor(g): 3.77e-03  Critic(l): 8.84e-06  n: 0.19  td: 0.009\n",
      "e: 220  score(s): -0.000 0.007  Avg score: 0.014  Actor(g): 3.57e-03  Critic(l): 8.34e-06  n: 0.16  td: 0.009\n",
      "e: 240  score(s): -0.001 0.007  Avg score: 0.013  Actor(g): 3.44e-03  Critic(l): 7.92e-06  n: 0.20  td: 0.009\n",
      "e: 260  score(s): -0.002 0.005  Avg score: 0.012  Actor(g): 3.17e-03  Critic(l): 7.45e-06  n: 0.19  td: 0.009\n",
      "e: 280  score(s): -0.002 0.003  Avg score: 0.009  Actor(g): 3.07e-03  Critic(l): 6.82e-06  n: 0.17  td: 0.008\n",
      "e: 300  score(s): 0.000 0.013  Avg score: 0.020  Actor(g): 3.02e-03  Critic(l): 7.20e-06  n: 0.17  td: 0.009\n",
      "e: 320  score(s): 0.003 0.016  Avg score: 0.025  Actor(g): 2.85e-03  Critic(l): 7.44e-06  n: 0.17  td: 0.009\n",
      "e: 340  score(s): 0.007 0.018  Avg score: 0.031  Actor(g): 3.03e-03  Critic(l): 7.86e-06  n: 0.18  td: 0.009\n",
      "e: 360  score(s): 0.006 0.017  Avg score: 0.029  Actor(g): 3.01e-03  Critic(l): 7.22e-06  n: 0.17  td: 0.009\n",
      "e: 380  score(s): 0.007 0.017  Avg score: 0.030  Actor(g): 2.90e-03  Critic(l): 6.77e-06  n: 0.14  td: 0.009\n",
      "e: 400  score(s): 0.005 0.011  Avg score: 0.024  Actor(g): 2.93e-03  Critic(l): 6.90e-06  n: 0.16  td: 0.009\n",
      "e: 420  score(s): 0.005 0.009  Avg score: 0.023  Actor(g): 2.91e-03  Critic(l): 6.91e-06  n: 0.13  td: 0.009\n",
      "e: 440  score(s): 0.001 0.014  Avg score: 0.023  Actor(g): 2.98e-03  Critic(l): 7.30e-06  n: 0.15  td: 0.009\n",
      "e: 460  score(s): 0.003 0.018  Avg score: 0.028  Actor(g): 3.00e-03  Critic(l): 7.31e-06  n: 0.13  td: 0.009\n",
      "e: 480  score(s): 0.003 0.021  Avg score: 0.031  Actor(g): 3.02e-03  Critic(l): 7.16e-06  n: 0.11  td: 0.009\n",
      "e: 500  score(s): 0.000 0.022  Avg score: 0.029  Actor(g): 3.04e-03  Critic(l): 6.96e-06  n: 0.09  td: 0.009\n",
      "e: 520  score(s): -0.002 0.023  Avg score: 0.028  Actor(g): 2.98e-03  Critic(l): 6.65e-06  n: 0.09  td: 0.009\n",
      "e: 540  score(s): -0.002 0.021  Avg score: 0.026  Actor(g): 3.06e-03  Critic(l): 6.83e-06  n: 0.11  td: 0.008\n"
     ]
    }
   ],
   "source": [
    "agents_scores_history = [[] for _ in range(num_agents)]\n",
    "max_episodic_scores_history = []\n",
    "average_scores_history = []\n",
    "t_history = []\n",
    "e = 0\n",
    "isSolved = False\n",
    "solved_episode = -1\n",
    "\n",
    "while e < episode_max:\n",
    "    \n",
    "    env_info = env.reset(train_mode=True)[brain_name]      # reset the environment    \n",
    "    ma_ddpg.noise_reset()                                  # reset noise of the agent    \n",
    "    states = env_info.vector_observations                  # get the current state np array :num_agents x state_size\n",
    "    running_score = np.zeros(num_agents)                   # initialize the score (for each agent)\n",
    "    \n",
    "    t = 0\n",
    "    \n",
    "    while True:\n",
    "        actions_list = ma_ddpg.acts(states)                # select an action (for each agent)\n",
    "        actor_tensor = torch.stack(actions_list).cpu().detach()\n",
    "        actions = np.clip(actor_tensor.numpy(), -1, 1)     # all actions between -1 and 1 #num_agents x action_size\n",
    "        env_info = env.step(actions)[brain_name]           # send all actions to tne environment\n",
    "        next_states = env_info.vector_observations         # get next state (# num_agents x state_size)\n",
    "        rewards = env_info.rewards                         # get reward (for each agent)\n",
    "        dones = env_info.local_done                        # see if episode finished\n",
    "        \n",
    "        ma_ddpg.step((states, actor_tensor, rewards, dones, next_states))\n",
    "        \n",
    "        running_score += rewards                           # update the score (for each agent)\n",
    "        states = next_states                               # roll over states to next time step\n",
    "        if np.any(dones) or t >= rollout_len:   \n",
    "            t_history.append(t)\n",
    "            break\n",
    "            \n",
    "        t += 1\n",
    "\n",
    "    for i in range(num_agents):\n",
    "        agents_scores_history[i].append(running_score[i])\n",
    "        \n",
    "    max_episodic_scores_history.append(np.max(running_score))\n",
    "    \n",
    "    avg_100_score = np.mean(max_episodic_scores_history[-100:])\n",
    "    average_scores_history.append(avg_100_score)\n",
    "\n",
    "    if ma_ddpg.is_training:\n",
    "        if (e+1)%20==0:\n",
    "            print(\"e: {}  score(s): {:.3f} {:.3f}  Avg score: {:.3f}  \"\n",
    "                  \"Actor(g): {:.2e}  Critic(l): {:.2e}  n: {:.2f}  \"\n",
    "                  \"td: {:.3f}\".format(e+1, np.mean(agents_scores_history[0][-100:]), \n",
    "                                     np.mean(agents_scores_history[1][-100:]), \n",
    "                                     avg_100_score,\n",
    "                                     np.mean(ma_ddpg.ag_history), \n",
    "                                     np.mean(ma_ddpg.cl_history),\n",
    "                                     np.mean(ma_ddpg.noise_history), \n",
    "                                     np.mean(ma_ddpg.td_history)))\n",
    "            \n",
    "        if not isSolved and avg_100_score >= 0.5:\n",
    "            print('\\033[32m env solved at episode {}! Average Score: '.format(e-100, avg_100_score))\n",
    "            isSolved = True\n",
    "        if isSolved and e >= solved_episode+100:\n",
    "            break #run for 100 more episodes after solving   \n",
    "            \n",
    "        e+=1\n",
    "    else:\n",
    "        print('\\rFetching experiences... {} '.format(ma_ddpg.t_step), end=\"\")"
   ]
  },
  {
   "cell_type": "code",
   "execution_count": null,
   "metadata": {},
   "outputs": [],
   "source": [
    "#target no noise but min is tiny\n",
    "saveTrainedModel(ma_ddpg, model_dir + model_name)"
   ]
  },
  {
   "cell_type": "code",
   "execution_count": null,
   "metadata": {},
   "outputs": [],
   "source": [
    "# plot the scores\n",
    "import matplotlib.pyplot as plt\n",
    "%matplotlib inline\n",
    "\n",
    "fig = plt.figure()\n",
    "ax = fig.add_subplot(111)\n",
    "plt.plot(np.arange(len(max_episodic_scores_history)), max_episodic_scores_history)\n",
    "plt.plot(np.arange(len(average_scores_history)), average_scores_history) # plotting t, c separately \n",
    "plt.ylabel('Score')\n",
    "plt.xlabel('Episode #')\n",
    "plt.show()"
   ]
  },
  {
   "cell_type": "code",
   "execution_count": null,
   "metadata": {},
   "outputs": [],
   "source": [
    "len(average_scores_history)"
   ]
  },
  {
   "cell_type": "code",
   "execution_count": null,
   "metadata": {},
   "outputs": [],
   "source": []
  },
  {
   "cell_type": "code",
   "execution_count": null,
   "metadata": {},
   "outputs": [],
   "source": []
  }
 ],
 "metadata": {
  "kernelspec": {
   "display_name": "Python 3",
   "language": "python",
   "name": "python3"
  },
  "language_info": {
   "codemirror_mode": {
    "name": "ipython",
    "version": 3
   },
   "file_extension": ".py",
   "mimetype": "text/x-python",
   "name": "python",
   "nbconvert_exporter": "python",
   "pygments_lexer": "ipython3",
   "version": "3.5.5"
  }
 },
 "nbformat": 4,
 "nbformat_minor": 2
}
