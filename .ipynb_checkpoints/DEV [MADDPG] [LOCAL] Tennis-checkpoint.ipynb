{
 "cells": [
  {
   "cell_type": "markdown",
   "metadata": {},
   "source": [
    "\n",
    "\n",
    "\n",
    "\n",
    "#################################################################################################################################################################################################################################################################################################################################################\n",
    "# Collaboration and Competition\n",
    "---\n",
    "\n",
    "In this notebook, you will learn how to use the Unity ML-Agents environment for the third project of the [Deep Reinforcement Learning Nanodegree](https://www.udacity.com/course/deep-reinforcement-learning-nanodegree--nd893) program.\n",
    "\n",
    "### 1. Start the Environment\n",
    "\n",
    "We begin by importing the necessary packages.  If the code cell below returns an error, please revisit the project instructions to double-check that you have installed [Unity ML-Agents](https://github.com/Unity-Technologies/ml-agents/blob/master/docs/Installation.md) and [NumPy](http://www.numpy.org/)."
   ]
  },
  {
   "cell_type": "code",
   "execution_count": 1,
   "metadata": {},
   "outputs": [],
   "source": [
    "from unityagents import UnityEnvironment\n",
    "import os"
   ]
  },
  {
   "cell_type": "markdown",
   "metadata": {},
   "source": [
    "Next, we will start the environment!  **_Before running the code cell below_**, change the `file_name` parameter to match the location of the Unity environment that you downloaded.\n",
    "\n",
    "- **Mac**: `\"path/to/Tennis.app\"`\n",
    "- **Windows** (x86): `\"path/to/Tennis_Windows_x86/Tennis.exe\"`\n",
    "- **Windows** (x86_64): `\"path/to/Tennis_Windows_x86_64/Tennis.exe\"`\n",
    "- **Linux** (x86): `\"path/to/Tennis_Linux/Tennis.x86\"`\n",
    "- **Linux** (x86_64): `\"path/to/Tennis_Linux/Tennis.x86_64\"`\n",
    "- **Linux** (x86, headless): `\"path/to/Tennis_Linux_NoVis/Tennis.x86\"`\n",
    "- **Linux** (x86_64, headless): `\"path/to/Tennis_Linux_NoVis/Tennis.x86_64\"`\n",
    "\n",
    "For instance, if you are using a Mac, then you downloaded `Tennis.app`.  If this file is in the same folder as the notebook, then the line below should appear as follows:\n",
    "```\n",
    "env = UnityEnvironment(file_name=\"Tennis.app\")\n",
    "```"
   ]
  },
  {
   "cell_type": "code",
   "execution_count": 2,
   "metadata": {},
   "outputs": [
    {
     "name": "stderr",
     "output_type": "stream",
     "text": [
      "INFO:unityagents:\n",
      "'Academy' started successfully!\n",
      "Unity Academy name: Academy\n",
      "        Number of Brains: 1\n",
      "        Number of External Brains : 1\n",
      "        Lesson number : 0\n",
      "        Reset Parameters :\n",
      "\t\t\n",
      "Unity brain name: TennisBrain\n",
      "        Number of Visual Observations (per agent): 0\n",
      "        Vector Observation space type: continuous\n",
      "        Vector Observation space size (per agent): 8\n",
      "        Number of stacked Vector Observation: 3\n",
      "        Vector Action space type: continuous\n",
      "        Vector Action space size (per agent): 2\n",
      "        Vector Action descriptions: , \n"
     ]
    }
   ],
   "source": [
    "env = UnityEnvironment(file_name=\"Tennis.app\", worker_id=404, no_graphics=True)"
   ]
  },
  {
   "cell_type": "markdown",
   "metadata": {},
   "source": [
    "Environments contain **_brains_** which are responsible for deciding the actions of their associated agents. Here we check for the first brain available, and set it as the default brain we will be controlling from Python."
   ]
  },
  {
   "cell_type": "markdown",
   "metadata": {},
   "source": [
    "### 2. Examine the State and Action Spaces\n",
    "\n",
    "In this environment, two agents control rackets to bounce a ball over a net. If an agent hits the ball over the net, it receives a reward of +0.1.  If an agent lets a ball hit the ground or hits the ball out of bounds, it receives a reward of -0.01.  Thus, the goal of each agent is to keep the ball in play.\n",
    "\n",
    "The observation space consists of 8 variables corresponding to the position and velocity of the ball and racket. Two continuous actions are available, corresponding to movement toward (or away from) the net, and jumping. \n",
    "\n",
    "Run the code cell below to print some information about the environment."
   ]
  },
  {
   "cell_type": "code",
   "execution_count": 3,
   "metadata": {},
   "outputs": [
    {
     "name": "stdout",
     "output_type": "stream",
     "text": [
      "Number of agents: 2\n",
      "Size of each action: 2\n",
      "There are 2 agents. Each observes a state with length: 24\n",
      "The state for the first agent looks like: [ 0.          0.          0.          0.          0.          0.\n",
      "  0.          0.          0.          0.          0.          0.\n",
      "  0.          0.          0.          0.         -6.65278625 -1.5\n",
      " -0.          0.          6.83172083  6.         -0.          0.        ]\n"
     ]
    }
   ],
   "source": [
    "# get the default brain\n",
    "brain_name = env.brain_names[0]\n",
    "brain = env.brains[brain_name]\n",
    "\n",
    "# reset the environment\n",
    "env_info = env.reset(train_mode=True)[brain_name]\n",
    "\n",
    "# number of agents \n",
    "num_agents = len(env_info.agents)\n",
    "print('Number of agents:', num_agents)\n",
    "\n",
    "# size of each action\n",
    "action_size = brain.vector_action_space_size\n",
    "print('Size of each action:', action_size)\n",
    "\n",
    "# examine the state space \n",
    "states = env_info.vector_observations\n",
    "state_size = states.shape[1]\n",
    "print('There are {} agents. Each observes a state with length: {}'.format(states.shape[0], state_size))\n",
    "print('The state for the first agent looks like:', states[0])"
   ]
  },
  {
   "cell_type": "markdown",
   "metadata": {},
   "source": [
    "### 3. Take Random Actions in the Environment\n",
    "\n",
    "In the next code cell, you will learn how to use the Python API to control the agents and receive feedback from the environment.\n",
    "\n",
    "Once this cell is executed, you will watch the agents' performance, if they select actions at random with each time step.  A window should pop up that allows you to observe the agents.\n",
    "\n",
    "Of course, as part of the project, you'll have to change the code so that the agents are able to use their experiences to gradually choose better actions when interacting with the environment!"
   ]
  },
  {
   "cell_type": "code",
   "execution_count": 4,
   "metadata": {},
   "outputs": [
    {
     "data": {
      "text/plain": [
       "\"\\nfor i in range(1, 2):                                      # play game for 5 episodes\\n    env_info = env.reset(train_mode=False)[brain_name]     # reset the environment    \\n    states = env_info.vector_observations                  # get the current state (for each agent)\\n    scores = np.zeros(num_agents)                          # initialize the score (for each agent)\\n    while True:\\n        actions = np.random.randn(num_agents, action_size) # select an action (for each agent)\\n        actions = np.clip(actions, -1, 1)                  # all actions between -1 and 1\\n        env_info = env.step(actions)[brain_name]           # send all actions to tne environment\\n        next_states = env_info.vector_observations         # get next state (for each agent)\\n        rewards = env_info.rewards                         # get reward (for each agent)\\n        dones = env_info.local_done                        # see if episode finished\\n        scores += env_info.rewards                         # update the score (for each agent)\\n        states = next_states                               # roll over states to next time step\\n        if np.any(dones):                                  # exit loop if episode finished\\n            break\\n    print('Score (max over agents) from episode {}: {}'.format(i, np.max(scores)))\\n\""
      ]
     },
     "execution_count": 4,
     "metadata": {},
     "output_type": "execute_result"
    }
   ],
   "source": [
    "\"\"\"\n",
    "for i in range(1, 2):                                      # play game for 5 episodes\n",
    "    env_info = env.reset(train_mode=False)[brain_name]     # reset the environment    \n",
    "    states = env_info.vector_observations                  # get the current state (for each agent)\n",
    "    scores = np.zeros(num_agents)                          # initialize the score (for each agent)\n",
    "    while True:\n",
    "        actions = np.random.randn(num_agents, action_size) # select an action (for each agent)\n",
    "        actions = np.clip(actions, -1, 1)                  # all actions between -1 and 1\n",
    "        env_info = env.step(actions)[brain_name]           # send all actions to tne environment\n",
    "        next_states = env_info.vector_observations         # get next state (for each agent)\n",
    "        rewards = env_info.rewards                         # get reward (for each agent)\n",
    "        dones = env_info.local_done                        # see if episode finished\n",
    "        scores += env_info.rewards                         # update the score (for each agent)\n",
    "        states = next_states                               # roll over states to next time step\n",
    "        if np.any(dones):                                  # exit loop if episode finished\n",
    "            break\n",
    "    print('Score (max over agents) from episode {}: {}'.format(i, np.max(scores)))\n",
    "\"\"\""
   ]
  },
  {
   "cell_type": "code",
   "execution_count": 5,
   "metadata": {},
   "outputs": [
    {
     "name": "stdout",
     "output_type": "stream",
     "text": [
      "(array([ 0.        ,  0.        ,  0.        ,  0.        ,  0.        ,\n",
      "        0.        ,  0.        ,  0.        ,  0.        ,  0.        ,\n",
      "        0.        ,  0.        ,  0.        ,  0.        ,  0.        ,\n",
      "        0.        , -6.65278625, -1.5       , -0.        ,  0.        ,\n",
      "        6.83172083,  6.        , -0.        ,  0.        ]), 1)\n",
      "(array([ 0.        ,  0.        ,  0.        ,  0.        ,  0.        ,\n",
      "        0.        ,  0.        ,  0.        ,  0.        ,  0.        ,\n",
      "        0.        ,  0.        ,  0.        ,  0.        ,  0.        ,\n",
      "        0.        , -6.4669857 , -1.5       ,  0.        ,  0.        ,\n",
      "       -6.83172083,  6.        ,  0.        ,  0.        ]), 2)\n"
     ]
    }
   ],
   "source": [
    "for i in zip(states,[1,2]):\n",
    "    print(i)"
   ]
  },
  {
   "cell_type": "markdown",
   "metadata": {},
   "source": [
    "When finished, you can close the environment."
   ]
  },
  {
   "cell_type": "code",
   "execution_count": 6,
   "metadata": {},
   "outputs": [],
   "source": [
    "#env.close()"
   ]
  },
  {
   "cell_type": "markdown",
   "metadata": {},
   "source": [
    "### 4. It's Your Turn!\n",
    "\n",
    "Now it's your turn to train your own agent to solve the environment!  When training the environment, set `train_mode=True`, so that the line for resetting the environment looks like the following:\n",
    "```python\n",
    "env_info = env.reset(train_mode=True)[brain_name]\n",
    "```"
   ]
  },
  {
   "cell_type": "code",
   "execution_count": 7,
   "metadata": {},
   "outputs": [],
   "source": [
    "import torch\n",
    "import numpy as np\n",
    "from ma_ddpg import MADDPG\n",
    "\n",
    "model_dir = 'saved_models/'\n",
    "model_name = 'multi-agents_' + str(brain_name) + '_' + str(num_agents) + '_agents.pt'\n",
    "\n",
    "os.makedirs(model_dir, exist_ok=True)\n",
    "\n",
    "episode_max = 15000\n",
    "rollout_len = 1000\n",
    "\n",
    "ma_ddpg = MADDPG(state_size, action_size, num_agents, seed=9394)"
   ]
  },
  {
   "cell_type": "code",
   "execution_count": 8,
   "metadata": {},
   "outputs": [],
   "source": [
    "def saveTrainedModel(agent, path):\n",
    "    state_dicts = {}\n",
    "    for i in range(num_agents):\n",
    "        state_dicts['model_agent' + str(i)] = {'actor_local': ma_ddpg.maddpg_agent[i].actor_local.state_dict(), \n",
    "                                               'critic_local': ma_ddpg.maddpg_agent[i].critic_local.state_dict(), \n",
    "                                               'actor_target': ma_ddpg.maddpg_agent[i].actor_target.state_dict(), \n",
    "                                               'critic_target': ma_ddpg.maddpg_agent[i].critic_target.state_dict()}\n",
    "    torch.save(state_dicts, path)"
   ]
  },
  {
   "cell_type": "code",
   "execution_count": 9,
   "metadata": {},
   "outputs": [
    {
     "name": "stdout",
     "output_type": "stream",
     "text": [
      "Fetching experiences... 997 Prefetch completed. Training starts! \n",
      "Number of Agents:  2\n",
      "Device:  cpu\n",
      "e: 20  score(s): -0.001 0.006  Avg score(100e): 0.013  Actor(g): 0.00  Critic(l): 0.57  noise: 1.92  steps: 1344\n",
      "e: 40  score(s): 0.001 0.005  Avg score(100e): 0.013  Actor(g): 0.00  Critic(l): 0.47  noise: 1.20  steps: 1664\n",
      "e: 60  score(s): 0.000 0.003  Avg score(100e): 0.011  Actor(g): 0.00  Critic(l): 0.48  noise: 1.33  steps: 1965\n",
      "e: 80  score(s): 0.003 0.003  Avg score(100e): 0.013  Actor(g): 0.00  Critic(l): 0.50  noise: 1.11  steps: 2337\n",
      "e: 100  score(s): 0.006 0.000  Avg score(100e): 0.014  Actor(g): 0.00  Critic(l): 0.37  noise: 1.10  steps: 2713\n",
      "e: 120  score(s): 0.007 0.000  Avg score(100e): 0.014  Actor(g): 0.00  Critic(l): 0.45  noise: 1.04  steps: 3069\n",
      "e: 140  score(s): 0.007 -0.001  Avg score(100e): 0.014  Actor(g): 0.00  Critic(l): 0.55  noise: 0.82  steps: 3394\n",
      "e: 160  score(s): 0.008 -0.001  Avg score(100e): 0.015  Actor(g): 0.00  Critic(l): 0.38  noise: 0.81  steps: 3711\n",
      "e: 180  score(s): 0.006 -0.002  Avg score(100e): 0.013  Actor(g): 0.00  Critic(l): 0.34  noise: 0.99  steps: 4042\n",
      "e: 200  score(s): 0.003 -0.001  Avg score(100e): 0.011  Actor(g): 0.00  Critic(l): 0.53  noise: 0.73  steps: 4362\n",
      "e: 220  score(s): 0.002 -0.002  Avg score(100e): 0.010  Actor(g): 0.00  Critic(l): 0.43  noise: 0.68  steps: 4684\n",
      "e: 240  score(s): 0.000 -0.002  Avg score(100e): 0.008  Actor(g): 0.00  Critic(l): 0.46  noise: 0.70  steps: 4967\n",
      "e: 260  score(s): -0.001 -0.003  Avg score(100e): 0.006  Actor(g): 0.00  Critic(l): 0.42  noise: 0.60  steps: 5257\n",
      "e: 280  score(s): -0.002 -0.004  Avg score(100e): 0.004  Actor(g): 0.00  Critic(l): 0.40  noise: 0.55  steps: 5540\n",
      "e: 300  score(s): -0.002 -0.005  Avg score(100e): 0.003  Actor(g): 0.00  Critic(l): 0.38  noise: 0.49  steps: 5840\n",
      "e: 320  score(s): -0.003 -0.004  Avg score(100e): 0.003  Actor(g): 0.00  Critic(l): 0.33  noise: 0.58  steps: 6170\n",
      "e: 340  score(s): -0.003 -0.004  Avg score(100e): 0.003  Actor(g): 0.00  Critic(l): 0.37  noise: 0.67  steps: 6457\n",
      "e: 360  score(s): -0.002 -0.002  Avg score(100e): 0.005  Actor(g): 0.00  Critic(l): 0.41  noise: 0.41  steps: 6796\n",
      "e: 380  score(s): -0.001 -0.002  Avg score(100e): 0.006  Actor(g): 0.00  Critic(l): 0.43  noise: 0.42  steps: 7099\n",
      "e: 400  score(s): -0.002 -0.002  Avg score(100e): 0.005  Actor(g): 0.00  Critic(l): 0.36  noise: 0.41  steps: 7383\n",
      "e: 420  score(s): -0.002 -0.002  Avg score(100e): 0.005  Actor(g): 0.00  Critic(l): 0.46  noise: 0.45  steps: 7714\n",
      "e: 440  score(s): -0.001 -0.002  Avg score(100e): 0.006  Actor(g): 0.00  Critic(l): 0.36  noise: 0.39  steps: 8017\n",
      "e: 460  score(s): -0.002 -0.004  Avg score(100e): 0.004  Actor(g): 0.00  Critic(l): 0.30  noise: 0.36  steps: 8319\n",
      "e: 480  score(s): -0.003 -0.004  Avg score(100e): 0.003  Actor(g): 0.00  Critic(l): 0.29  noise: 0.39  steps: 8608\n",
      "e: 500  score(s): -0.002 -0.002  Avg score(100e): 0.005  Actor(g): 0.00  Critic(l): 0.31  noise: 0.33  steps: 8950\n",
      "e: 520  score(s): -0.002 -0.003  Avg score(100e): 0.004  Actor(g): 0.00  Critic(l): 0.31  noise: 0.33  steps: 9257\n",
      "e: 540  score(s): -0.002 -0.003  Avg score(100e): 0.004  Actor(g): 0.00  Critic(l): 0.41  noise: 0.26  steps: 9557\n",
      "e: 560  score(s): -0.001 -0.003  Avg score(100e): 0.005  Actor(g): 0.00  Critic(l): 0.40  noise: 0.23  steps: 9861\n",
      "e: 580  score(s): 0.001 -0.003  Avg score(100e): 0.006  Actor(g): 0.00  Critic(l): 0.25  noise: 0.28  steps: 10198\n",
      "e: 600  score(s): -0.000 -0.004  Avg score(100e): 0.005  Actor(g): 0.00  Critic(l): 0.31  noise: 0.22  steps: 10502\n",
      "e: 620  score(s): -0.001 -0.003  Avg score(100e): 0.005  Actor(g): 0.00  Critic(l): 0.24  noise: 0.24  steps: 10808\n",
      "e: 640  score(s): 0.001 -0.002  Avg score(100e): 0.007  Actor(g): 0.00  Critic(l): 0.28  noise: 0.17  steps: 11155\n",
      "e: 660  score(s): -0.001 -0.002  Avg score(100e): 0.006  Actor(g): 0.00  Critic(l): 0.27  noise: 0.19  steps: 11441\n",
      "e: 680  score(s): -0.002 -0.002  Avg score(100e): 0.006  Actor(g): 0.00  Critic(l): 0.26  noise: 0.14  steps: 11770\n",
      "e: 700  score(s): -0.001 -0.003  Avg score(100e): 0.006  Actor(g): 0.00  Critic(l): 0.29  noise: 0.17  steps: 12084\n",
      "e: 720  score(s): -0.001 -0.004  Avg score(100e): 0.005  Actor(g): 0.00  Critic(l): 0.27  noise: 0.14  steps: 12371\n",
      "e: 740  score(s): -0.003 -0.004  Avg score(100e): 0.003  Actor(g): 0.00  Critic(l): 0.29  noise: 0.14  steps: 12678\n",
      "e: 760  score(s): -0.003 -0.003  Avg score(100e): 0.003  Actor(g): 0.00  Critic(l): 0.28  noise: 0.12  steps: 12966\n",
      "e: 780  score(s): -0.003 -0.004  Avg score(100e): 0.002  Actor(g): 0.00  Critic(l): 0.24  noise: 0.13  steps: 13250\n",
      "e: 800  score(s): -0.005 -0.004  Avg score(100e): 0.001  Actor(g): 0.00  Critic(l): 0.27  noise: 0.11  steps: 13555\n",
      "e: 820  score(s): -0.003 -0.005  Avg score(100e): 0.002  Actor(g): 0.00  Critic(l): 0.21  noise: 0.11  steps: 13852\n",
      "e: 840  score(s): -0.004 -0.005  Avg score(100e): 0.001  Actor(g): 0.00  Critic(l): 0.25  noise: 0.11  steps: 14136\n",
      "e: 860  score(s): -0.003 -0.006  Avg score(100e): 0.001  Actor(g): 0.00  Critic(l): 0.17  noise: 0.11  steps: 14426\n",
      "e: 880  score(s): -0.003 -0.005  Avg score(100e): 0.001  Actor(g): 0.00  Critic(l): 0.33  noise: 0.08  steps: 14721\n",
      "e: 900  score(s): -0.003 -0.006  Avg score(100e): 0.001  Actor(g): 0.00  Critic(l): 0.22  noise: 0.09  steps: 15029\n",
      "e: 920  score(s): -0.003 -0.005  Avg score(100e): 0.001  Actor(g): 0.00  Critic(l): 0.19  noise: 0.08  steps: 15363\n",
      "e: 940  score(s): -0.003 -0.004  Avg score(100e): 0.001  Actor(g): 0.00  Critic(l): 0.23  noise: 0.09  steps: 15655\n",
      "e: 960  score(s): -0.004 -0.004  Avg score(100e): 0.001  Actor(g): 0.00  Critic(l): 0.28  noise: 0.07  steps: 15950\n",
      "e: 980  score(s): -0.004 -0.004  Avg score(100e): 0.001  Actor(g): 0.00  Critic(l): 0.26  noise: 0.08  steps: 16258\n",
      "e: 1000  score(s): -0.004 -0.004  Avg score(100e): 0.001  Actor(g): 0.00  Critic(l): 0.22  noise: 0.07  steps: 16555\n",
      "e: 1020  score(s): -0.005 -0.005  Avg score(100e): 0.000  Actor(g): 0.00  Critic(l): 0.24  noise: 0.07  steps: 16852\n",
      "e: 1040  score(s): -0.005 -0.005  Avg score(100e): 0.000  Actor(g): 0.00  Critic(l): 0.23  noise: 0.08  steps: 17139\n",
      "e: 1060  score(s): -0.005 -0.005  Avg score(100e): 0.000  Actor(g): 0.00  Critic(l): 0.31  noise: 0.05  steps: 17423\n",
      "e: 1080  score(s): -0.005 -0.005  Avg score(100e): 0.000  Actor(g): 0.00  Critic(l): 0.29  noise: 0.04  steps: 17707\n",
      "e: 1100  score(s): -0.005 -0.005  Avg score(100e): 0.000  Actor(g): 0.00  Critic(l): 0.23  noise: 0.06  steps: 17991\n",
      "e: 1120  score(s): -0.005 -0.005  Avg score(100e): 0.000  Actor(g): 0.00  Critic(l): 0.14  noise: 0.06  steps: 18275\n",
      "e: 1140  score(s): -0.005 -0.005  Avg score(100e): 0.000  Actor(g): 0.00  Critic(l): 0.31  noise: 0.04  steps: 18559\n",
      "e: 1160  score(s): -0.005 -0.005  Avg score(100e): 0.000  Actor(g): 0.00  Critic(l): 0.23  noise: 0.04  steps: 18843\n",
      "e: 1180  score(s): -0.005 -0.005  Avg score(100e): 0.000  Actor(g): 0.00  Critic(l): 0.25  noise: 0.03  steps: 19127\n",
      "e: 1200  score(s): -0.005 -0.005  Avg score(100e): 0.000  Actor(g): 0.00  Critic(l): 0.21  noise: 0.04  steps: 19411\n",
      "e: 1220  score(s): -0.005 -0.005  Avg score(100e): 0.000  Actor(g): 0.00  Critic(l): 0.21  noise: 0.03  steps: 19695\n",
      "e: 1240  score(s): -0.005 -0.005  Avg score(100e): 0.000  Actor(g): 0.00  Critic(l): 0.18  noise: 0.04  steps: 19979\n",
      "e: 1260  score(s): -0.005 -0.005  Avg score(100e): 0.000  Actor(g): 0.00  Critic(l): 0.14  noise: 0.04  steps: 20263\n",
      "e: 1280  score(s): -0.005 -0.005  Avg score(100e): 0.000  Actor(g): 0.00  Critic(l): 0.12  noise: 0.03  steps: 20547\n",
      "e: 1300  score(s): -0.005 -0.005  Avg score(100e): 0.000  Actor(g): 0.00  Critic(l): 0.22  noise: 0.03  steps: 20831\n",
      "e: 1320  score(s): -0.005 -0.005  Avg score(100e): 0.000  Actor(g): 0.00  Critic(l): 0.15  noise: 0.03  steps: 21115\n",
      "e: 1340  score(s): -0.005 -0.005  Avg score(100e): 0.000  Actor(g): 0.00  Critic(l): 0.23  noise: 0.03  steps: 21399\n",
      "e: 1360  score(s): -0.005 -0.005  Avg score(100e): 0.000  Actor(g): 0.00  Critic(l): 0.20  noise: 0.03  steps: 21683\n",
      "e: 1380  score(s): -0.005 -0.005  Avg score(100e): 0.000  Actor(g): 0.00  Critic(l): 0.19  noise: 0.03  steps: 21967\n",
      "e: 1400  score(s): -0.005 -0.005  Avg score(100e): 0.000  Actor(g): 0.00  Critic(l): 0.26  noise: 0.03  steps: 22251\n",
      "e: 1420  score(s): -0.005 -0.005  Avg score(100e): 0.000  Actor(g): 0.00  Critic(l): 0.21  noise: 0.03  steps: 22535\n"
     ]
    },
    {
     "name": "stdout",
     "output_type": "stream",
     "text": [
      "e: 1440  score(s): -0.005 -0.005  Avg score(100e): 0.000  Actor(g): 0.00  Critic(l): 0.21  noise: 0.03  steps: 22819\n",
      "e: 1460  score(s): -0.005 -0.005  Avg score(100e): 0.000  Actor(g): 0.00  Critic(l): 0.16  noise: 0.03  steps: 23103\n",
      "e: 1480  score(s): -0.005 -0.005  Avg score(100e): 0.000  Actor(g): 0.00  Critic(l): 0.25  noise: 0.03  steps: 23387\n",
      "e: 1500  score(s): -0.005 -0.005  Avg score(100e): 0.000  Actor(g): 0.00  Critic(l): 0.15  noise: 0.03  steps: 23671\n",
      "e: 1520  score(s): -0.005 -0.005  Avg score(100e): 0.000  Actor(g): 0.00  Critic(l): 0.13  noise: 0.05  steps: 23955\n",
      "e: 1540  score(s): -0.005 -0.005  Avg score(100e): 0.000  Actor(g): 0.00  Critic(l): 0.22  noise: 0.03  steps: 24239\n",
      "e: 1560  score(s): -0.005 -0.005  Avg score(100e): 0.000  Actor(g): 0.00  Critic(l): 0.11  noise: 0.03  steps: 24523\n",
      "e: 1580  score(s): -0.004 -0.005  Avg score(100e): 0.000  Actor(g): 0.00  Critic(l): 0.17  noise: 0.03  steps: 24807\n",
      "e: 1600  score(s): -0.004 -0.005  Avg score(100e): 0.000  Actor(g): 0.00  Critic(l): 0.16  noise: 0.03  steps: 25091\n",
      "e: 1620  score(s): -0.005 -0.005  Avg score(100e): 0.000  Actor(g): 0.00  Critic(l): 0.19  noise: 0.03  steps: 25375\n",
      "e: 1640  score(s): -0.005 -0.005  Avg score(100e): 0.000  Actor(g): 0.00  Critic(l): 0.20  noise: 0.03  steps: 25659\n",
      "e: 1660  score(s): -0.005 -0.005  Avg score(100e): 0.000  Actor(g): 0.00  Critic(l): 0.18  noise: 0.03  steps: 25943\n",
      "e: 1680  score(s): -0.005 -0.005  Avg score(100e): 0.000  Actor(g): 0.00  Critic(l): 0.23  noise: 0.03  steps: 26227\n",
      "e: 1700  score(s): -0.006 -0.004  Avg score(100e): 0.000  Actor(g): 0.00  Critic(l): 0.18  noise: 0.03  steps: 26511\n",
      "e: 1720  score(s): -0.005 -0.005  Avg score(100e): 0.000  Actor(g): 0.00  Critic(l): 0.13  noise: 0.03  steps: 26795\n",
      "e: 1740  score(s): -0.005 -0.005  Avg score(100e): 0.000  Actor(g): 0.00  Critic(l): 0.19  noise: 0.04  steps: 27079\n",
      "e: 1760  score(s): -0.005 -0.005  Avg score(100e): 0.000  Actor(g): 0.00  Critic(l): 0.16  noise: 0.02  steps: 27363\n",
      "e: 1780  score(s): -0.005 -0.005  Avg score(100e): 0.000  Actor(g): 0.00  Critic(l): 0.13  noise: 0.03  steps: 27647\n",
      "e: 1800  score(s): -0.005 -0.005  Avg score(100e): 0.000  Actor(g): 0.00  Critic(l): 0.12  noise: 0.03  steps: 27931\n",
      "e: 1820  score(s): -0.005 -0.005  Avg score(100e): 0.000  Actor(g): 0.00  Critic(l): 0.19  noise: 0.03  steps: 28215\n",
      "e: 1840  score(s): -0.005 -0.005  Avg score(100e): 0.000  Actor(g): 0.00  Critic(l): 0.14  noise: 0.03  steps: 28499\n",
      "e: 1860  score(s): -0.005 -0.004  Avg score(100e): 0.000  Actor(g): 0.00  Critic(l): 0.18  noise: 0.02  steps: 28783\n",
      "e: 1880  score(s): -0.005 -0.005  Avg score(100e): 0.000  Actor(g): 0.00  Critic(l): 0.21  noise: 0.03  steps: 29067\n",
      "e: 1900  score(s): -0.005 -0.005  Avg score(100e): 0.000  Actor(g): 0.00  Critic(l): 0.15  noise: 0.03  steps: 29351\n",
      "e: 1920  score(s): -0.005 -0.005  Avg score(100e): 0.000  Actor(g): 0.00  Critic(l): 0.18  noise: 0.04  steps: 29635\n",
      "e: 1940  score(s): -0.005 -0.005  Avg score(100e): 0.000  Actor(g): 0.00  Critic(l): 0.15  noise: 0.03  steps: 29919\n",
      "e: 1960  score(s): -0.005 -0.005  Avg score(100e): 0.000  Actor(g): 0.00  Critic(l): 0.17  noise: 0.03  steps: 30203\n",
      "e: 1980  score(s): -0.006 -0.004  Avg score(100e): 0.000  Actor(g): 0.00  Critic(l): 0.10  noise: 0.03  steps: 30487\n",
      "e: 2000  score(s): -0.006 -0.004  Avg score(100e): 0.000  Actor(g): 0.00  Critic(l): 0.20  noise: 0.03  steps: 30771\n",
      "e: 2020  score(s): -0.006 -0.004  Avg score(100e): 0.000  Actor(g): 0.00  Critic(l): 0.18  noise: 0.03  steps: 31055\n",
      "e: 2040  score(s): -0.006 -0.004  Avg score(100e): 0.000  Actor(g): 0.00  Critic(l): 0.12  noise: 0.03  steps: 31339\n",
      "e: 2060  score(s): -0.005 -0.005  Avg score(100e): 0.000  Actor(g): 0.00  Critic(l): 0.13  noise: 0.03  steps: 31623\n",
      "e: 2080  score(s): -0.005 -0.005  Avg score(100e): 0.000  Actor(g): 0.00  Critic(l): 0.14  noise: 0.03  steps: 31907\n",
      "e: 2100  score(s): -0.005 -0.005  Avg score(100e): 0.000  Actor(g): 0.00  Critic(l): 0.13  noise: 0.03  steps: 32191\n",
      "e: 2120  score(s): -0.004 -0.005  Avg score(100e): 0.000  Actor(g): 0.00  Critic(l): 0.10  noise: 0.03  steps: 32475\n",
      "e: 2140  score(s): -0.004 -0.005  Avg score(100e): 0.000  Actor(g): 0.00  Critic(l): 0.14  noise: 0.03  steps: 32759\n",
      "e: 2160  score(s): -0.004 -0.006  Avg score(100e): 0.000  Actor(g): 0.00  Critic(l): 0.18  noise: 0.02  steps: 33043\n",
      "e: 2180  score(s): -0.004 -0.006  Avg score(100e): 0.000  Actor(g): 0.00  Critic(l): 0.16  noise: 0.04  steps: 33327\n",
      "e: 2200  score(s): -0.004 -0.006  Avg score(100e): 0.000  Actor(g): 0.00  Critic(l): 0.11  noise: 0.03  steps: 33611\n",
      "e: 2220  score(s): -0.004 -0.006  Avg score(100e): 0.000  Actor(g): 0.00  Critic(l): 0.15  noise: 0.04  steps: 33895\n",
      "e: 2240  score(s): -0.004 -0.006  Avg score(100e): 0.000  Actor(g): 0.00  Critic(l): 0.13  noise: 0.03  steps: 34179\n",
      "e: 2260  score(s): -0.004 -0.006  Avg score(100e): 0.000  Actor(g): 0.00  Critic(l): 0.16  noise: 0.03  steps: 34463\n",
      "e: 2280  score(s): -0.005 -0.005  Avg score(100e): 0.000  Actor(g): 0.00  Critic(l): 0.16  noise: 0.03  steps: 34747\n",
      "e: 2300  score(s): -0.005 -0.005  Avg score(100e): 0.000  Actor(g): 0.00  Critic(l): 0.17  noise: 0.03  steps: 35031\n",
      "e: 2320  score(s): -0.005 -0.005  Avg score(100e): 0.000  Actor(g): 0.00  Critic(l): 0.17  noise: 0.03  steps: 35315\n",
      "e: 2340  score(s): -0.005 -0.005  Avg score(100e): 0.000  Actor(g): 0.00  Critic(l): 0.17  noise: 0.04  steps: 35599\n",
      "e: 2360  score(s): -0.005 -0.005  Avg score(100e): 0.000  Actor(g): 0.00  Critic(l): 0.08  noise: 0.03  steps: 35883\n",
      "e: 2380  score(s): -0.005 -0.005  Avg score(100e): 0.000  Actor(g): 0.00  Critic(l): 0.16  noise: 0.03  steps: 36167\n",
      "e: 2400  score(s): -0.004 -0.005  Avg score(100e): 0.000  Actor(g): 0.00  Critic(l): 0.23  noise: 0.03  steps: 36451\n",
      "e: 2420  score(s): -0.005 -0.005  Avg score(100e): 0.000  Actor(g): 0.00  Critic(l): 0.12  noise: 0.03  steps: 36735\n",
      "e: 2440  score(s): -0.005 -0.005  Avg score(100e): 0.000  Actor(g): 0.00  Critic(l): 0.10  noise: 0.03  steps: 37019\n",
      "e: 2460  score(s): -0.004 -0.005  Avg score(100e): 0.000  Actor(g): 0.00  Critic(l): 0.11  noise: 0.03  steps: 37303\n",
      "e: 2480  score(s): -0.004 -0.006  Avg score(100e): 0.000  Actor(g): 0.00  Critic(l): 0.08  noise: 0.03  steps: 37587\n",
      "e: 2500  score(s): -0.004 -0.006  Avg score(100e): 0.000  Actor(g): 0.00  Critic(l): 0.16  noise: 0.03  steps: 37871\n",
      "e: 2520  score(s): -0.004 -0.006  Avg score(100e): 0.000  Actor(g): 0.00  Critic(l): 0.10  noise: 0.02  steps: 38155\n",
      "e: 2540  score(s): -0.004 -0.006  Avg score(100e): 0.000  Actor(g): 0.00  Critic(l): 0.11  noise: 0.03  steps: 38439\n",
      "e: 2560  score(s): -0.004 -0.006  Avg score(100e): 0.000  Actor(g): 0.00  Critic(l): 0.14  noise: 0.04  steps: 38723\n",
      "e: 2580  score(s): -0.005 -0.005  Avg score(100e): 0.000  Actor(g): 0.00  Critic(l): 0.11  noise: 0.03  steps: 39007\n",
      "e: 2600  score(s): -0.005 -0.005  Avg score(100e): 0.000  Actor(g): 0.00  Critic(l): 0.12  noise: 0.03  steps: 39291\n",
      "e: 2620  score(s): -0.005 -0.005  Avg score(100e): 0.000  Actor(g): 0.00  Critic(l): 0.07  noise: 0.03  steps: 39575\n",
      "e: 2640  score(s): -0.005 -0.005  Avg score(100e): 0.000  Actor(g): 0.00  Critic(l): 0.12  noise: 0.03  steps: 39859\n",
      "e: 2660  score(s): -0.005 -0.005  Avg score(100e): 0.000  Actor(g): 0.00  Critic(l): 0.09  noise: 0.03  steps: 40143\n",
      "e: 2680  score(s): -0.004 -0.006  Avg score(100e): 0.000  Actor(g): 0.00  Critic(l): 0.13  noise: 0.02  steps: 40427\n",
      "e: 2700  score(s): -0.005 -0.005  Avg score(100e): 0.000  Actor(g): 0.00  Critic(l): 0.14  noise: 0.03  steps: 40711\n",
      "e: 2720  score(s): -0.005 -0.005  Avg score(100e): 0.000  Actor(g): 0.00  Critic(l): 0.13  noise: 0.03  steps: 40995\n",
      "e: 2740  score(s): -0.005 -0.005  Avg score(100e): 0.000  Actor(g): 0.00  Critic(l): 0.12  noise: 0.04  steps: 41279\n",
      "e: 2760  score(s): -0.006 -0.004  Avg score(100e): 0.000  Actor(g): 0.00  Critic(l): 0.10  noise: 0.02  steps: 41563\n",
      "e: 2780  score(s): -0.006 -0.004  Avg score(100e): 0.000  Actor(g): 0.00  Critic(l): 0.05  noise: 0.03  steps: 41847\n",
      "e: 2800  score(s): -0.006 -0.004  Avg score(100e): 0.000  Actor(g): 0.00  Critic(l): 0.08  noise: 0.03  steps: 42131\n",
      "e: 2820  score(s): -0.006 -0.004  Avg score(100e): 0.000  Actor(g): 0.00  Critic(l): 0.08  noise: 0.03  steps: 42415\n",
      "e: 2840  score(s): -0.006 -0.004  Avg score(100e): 0.000  Actor(g): 0.00  Critic(l): 0.09  noise: 0.04  steps: 42699\n"
     ]
    },
    {
     "name": "stdout",
     "output_type": "stream",
     "text": [
      "e: 2860  score(s): -0.006 -0.004  Avg score(100e): 0.000  Actor(g): 0.00  Critic(l): 0.13  noise: 0.03  steps: 42983\n",
      "e: 2880  score(s): -0.006 -0.004  Avg score(100e): 0.000  Actor(g): 0.00  Critic(l): 0.09  noise: 0.03  steps: 43267\n",
      "e: 2900  score(s): -0.005 -0.005  Avg score(100e): 0.000  Actor(g): 0.00  Critic(l): 0.14  noise: 0.03  steps: 43551\n",
      "e: 2920  score(s): -0.005 -0.005  Avg score(100e): 0.000  Actor(g): 0.00  Critic(l): 0.09  noise: 0.03  steps: 43835\n",
      "e: 2940  score(s): -0.005 -0.005  Avg score(100e): 0.000  Actor(g): 0.00  Critic(l): 0.11  noise: 0.02  steps: 44119\n",
      "e: 2960  score(s): -0.005 -0.005  Avg score(100e): 0.000  Actor(g): 0.00  Critic(l): 0.11  noise: 0.03  steps: 44403\n",
      "e: 2980  score(s): -0.004 -0.005  Avg score(100e): 0.000  Actor(g): 0.00  Critic(l): 0.14  noise: 0.03  steps: 44687\n",
      "e: 3000  score(s): -0.005 -0.005  Avg score(100e): 0.000  Actor(g): 0.00  Critic(l): 0.13  noise: 0.04  steps: 44971\n",
      "e: 3020  score(s): -0.005 -0.005  Avg score(100e): 0.000  Actor(g): 0.00  Critic(l): 0.11  noise: 0.03  steps: 45255\n"
     ]
    },
    {
     "ename": "KeyboardInterrupt",
     "evalue": "",
     "output_type": "error",
     "traceback": [
      "\u001b[0;31m---------------------------------------------------------------------------\u001b[0m",
      "\u001b[0;31mKeyboardInterrupt\u001b[0m                         Traceback (most recent call last)",
      "\u001b[0;32m<ipython-input-9-4c5f3a105315>\u001b[0m in \u001b[0;36m<module>\u001b[0;34m()\u001b[0m\n\u001b[1;32m     23\u001b[0m         \u001b[0mdones\u001b[0m \u001b[0;34m=\u001b[0m \u001b[0menv_info\u001b[0m\u001b[0;34m.\u001b[0m\u001b[0mlocal_done\u001b[0m                        \u001b[0;31m# see if episode finished\u001b[0m\u001b[0;34m\u001b[0m\u001b[0m\n\u001b[1;32m     24\u001b[0m \u001b[0;34m\u001b[0m\u001b[0m\n\u001b[0;32m---> 25\u001b[0;31m         \u001b[0mma_ddpg\u001b[0m\u001b[0;34m.\u001b[0m\u001b[0mstep\u001b[0m\u001b[0;34m(\u001b[0m\u001b[0;34m(\u001b[0m\u001b[0mstates\u001b[0m\u001b[0;34m,\u001b[0m \u001b[0mactor_tensor\u001b[0m\u001b[0;34m,\u001b[0m \u001b[0mrewards\u001b[0m\u001b[0;34m,\u001b[0m \u001b[0mdones\u001b[0m\u001b[0;34m,\u001b[0m \u001b[0mnext_states\u001b[0m\u001b[0;34m)\u001b[0m\u001b[0;34m)\u001b[0m\u001b[0;34m\u001b[0m\u001b[0m\n\u001b[0m\u001b[1;32m     26\u001b[0m \u001b[0;34m\u001b[0m\u001b[0m\n\u001b[1;32m     27\u001b[0m         \u001b[0mrunning_score\u001b[0m \u001b[0;34m+=\u001b[0m \u001b[0menv_info\u001b[0m\u001b[0;34m.\u001b[0m\u001b[0mrewards\u001b[0m                  \u001b[0;31m# update the score (for each agent)\u001b[0m\u001b[0;34m\u001b[0m\u001b[0m\n",
      "\u001b[0;32m~/Desktop/MLfolders/_udacity/multi_agent_rl/ma_ddpg.py\u001b[0m in \u001b[0;36mstep\u001b[0;34m(self, data)\u001b[0m\n\u001b[1;32m    157\u001b[0m                     \u001b[0;32mfor\u001b[0m \u001b[0mai\u001b[0m \u001b[0;32min\u001b[0m \u001b[0mrange\u001b[0m\u001b[0;34m(\u001b[0m\u001b[0mself\u001b[0m\u001b[0;34m.\u001b[0m\u001b[0mnum_agents\u001b[0m\u001b[0;34m)\u001b[0m\u001b[0;34m:\u001b[0m \u001b[0;31m#do it agent by agent\u001b[0m\u001b[0;34m\u001b[0m\u001b[0m\n\u001b[1;32m    158\u001b[0m                         \u001b[0magents_inputs\u001b[0m \u001b[0;34m=\u001b[0m \u001b[0mself\u001b[0m\u001b[0;34m.\u001b[0m\u001b[0mget_all_samples\u001b[0m\u001b[0;34m(\u001b[0m\u001b[0;34m)\u001b[0m\u001b[0;34m\u001b[0m\u001b[0m\n\u001b[0;32m--> 159\u001b[0;31m                         \u001b[0mself\u001b[0m\u001b[0;34m.\u001b[0m\u001b[0mlearn\u001b[0m\u001b[0;34m(\u001b[0m\u001b[0magents_inputs\u001b[0m\u001b[0;34m,\u001b[0m \u001b[0mai\u001b[0m\u001b[0;34m)\u001b[0m\u001b[0;34m\u001b[0m\u001b[0m\n\u001b[0m\u001b[1;32m    160\u001b[0m \u001b[0;34m\u001b[0m\u001b[0m\n\u001b[1;32m    161\u001b[0m             \u001b[0;32mif\u001b[0m \u001b[0mself\u001b[0m\u001b[0;34m.\u001b[0m\u001b[0mt_step\u001b[0m \u001b[0;34m>=\u001b[0m \u001b[0mNOISE_DC_START\u001b[0m \u001b[0;32mand\u001b[0m \u001b[0mself\u001b[0m\u001b[0;34m.\u001b[0m\u001b[0mt_step\u001b[0m \u001b[0;34m%\u001b[0m \u001b[0mNOISE_DECAY_EVERY\u001b[0m\u001b[0;34m:\u001b[0m\u001b[0;34m\u001b[0m\u001b[0m\n",
      "\u001b[0;32m~/Desktop/MLfolders/_udacity/multi_agent_rl/ma_ddpg.py\u001b[0m in \u001b[0;36mlearn\u001b[0;34m(self, data, agent_id)\u001b[0m\n\u001b[1;32m    255\u001b[0m         \u001b[0mcritic_loss\u001b[0m\u001b[0;34m.\u001b[0m\u001b[0mbackward\u001b[0m\u001b[0;34m(\u001b[0m\u001b[0;34m)\u001b[0m\u001b[0;34m\u001b[0m\u001b[0m\n\u001b[1;32m    256\u001b[0m         \u001b[0mtorch\u001b[0m\u001b[0;34m.\u001b[0m\u001b[0mnn\u001b[0m\u001b[0;34m.\u001b[0m\u001b[0mutils\u001b[0m\u001b[0;34m.\u001b[0m\u001b[0mclip_grad_norm_\u001b[0m\u001b[0;34m(\u001b[0m\u001b[0magent\u001b[0m\u001b[0;34m.\u001b[0m\u001b[0mcritic_local\u001b[0m\u001b[0;34m.\u001b[0m\u001b[0mparameters\u001b[0m\u001b[0;34m(\u001b[0m\u001b[0;34m)\u001b[0m\u001b[0;34m,\u001b[0m \u001b[0;36m0.5\u001b[0m\u001b[0;34m)\u001b[0m\u001b[0;34m\u001b[0m\u001b[0m\n\u001b[0;32m--> 257\u001b[0;31m         \u001b[0magent\u001b[0m\u001b[0;34m.\u001b[0m\u001b[0mcritic_optimizer\u001b[0m\u001b[0;34m.\u001b[0m\u001b[0mstep\u001b[0m\u001b[0;34m(\u001b[0m\u001b[0;34m)\u001b[0m\u001b[0;34m\u001b[0m\u001b[0m\n\u001b[0m\u001b[1;32m    258\u001b[0m \u001b[0;34m\u001b[0m\u001b[0m\n\u001b[1;32m    259\u001b[0m         \u001b[0;31m####################### ACTOR LOSS #########################\u001b[0m\u001b[0;34m\u001b[0m\u001b[0;34m\u001b[0m\u001b[0m\n",
      "\u001b[0;32m~/anaconda/envs/tensorflow/lib/python3.5/site-packages/torch/optim/adam.py\u001b[0m in \u001b[0;36mstep\u001b[0;34m(self, closure)\u001b[0m\n\u001b[1;32m    105\u001b[0m                 \u001b[0mstep_size\u001b[0m \u001b[0;34m=\u001b[0m \u001b[0mgroup\u001b[0m\u001b[0;34m[\u001b[0m\u001b[0;34m'lr'\u001b[0m\u001b[0;34m]\u001b[0m \u001b[0;34m*\u001b[0m \u001b[0mmath\u001b[0m\u001b[0;34m.\u001b[0m\u001b[0msqrt\u001b[0m\u001b[0;34m(\u001b[0m\u001b[0mbias_correction2\u001b[0m\u001b[0;34m)\u001b[0m \u001b[0;34m/\u001b[0m \u001b[0mbias_correction1\u001b[0m\u001b[0;34m\u001b[0m\u001b[0m\n\u001b[1;32m    106\u001b[0m \u001b[0;34m\u001b[0m\u001b[0m\n\u001b[0;32m--> 107\u001b[0;31m                 \u001b[0mp\u001b[0m\u001b[0;34m.\u001b[0m\u001b[0mdata\u001b[0m\u001b[0;34m.\u001b[0m\u001b[0maddcdiv_\u001b[0m\u001b[0;34m(\u001b[0m\u001b[0;34m-\u001b[0m\u001b[0mstep_size\u001b[0m\u001b[0;34m,\u001b[0m \u001b[0mexp_avg\u001b[0m\u001b[0;34m,\u001b[0m \u001b[0mdenom\u001b[0m\u001b[0;34m)\u001b[0m\u001b[0;34m\u001b[0m\u001b[0m\n\u001b[0m\u001b[1;32m    108\u001b[0m \u001b[0;34m\u001b[0m\u001b[0m\n\u001b[1;32m    109\u001b[0m         \u001b[0;32mreturn\u001b[0m \u001b[0mloss\u001b[0m\u001b[0;34m\u001b[0m\u001b[0m\n",
      "\u001b[0;31mKeyboardInterrupt\u001b[0m: "
     ]
    }
   ],
   "source": [
    "agents_scores_history = [[] for _ in range(num_agents)]\n",
    "max_episodic_scores_history = []\n",
    "average_scores_history = []\n",
    "t_history = []\n",
    "e = 0\n",
    "isSolved = False\n",
    "\n",
    "while e < episode_max:\n",
    "    \n",
    "    env_info = env.reset(train_mode=True)[brain_name]      # reset the environment    \n",
    "    states = env_info.vector_observations                  # get the current state np array :num_agents x state_size\n",
    "    running_score = np.zeros(num_agents)                   # initialize the score (for each agent)\n",
    "    \n",
    "    t = 0\n",
    "    \n",
    "    while True:\n",
    "        actions_list = ma_ddpg.acts(states)                # select an action (for each agent)\n",
    "        print(actions_list[1])\n",
    "        actor_tensor = torch.stack(actions_list).cpu().detach()\n",
    "        print(actor_tensor[1])\n",
    "        actions = np.clip(actor_tensor.numpy(), -1, 1)     # all actions between -1 and 1 #num_agents x action_size\n",
    "        env_info = env.step(actions)[brain_name]           # send all actions to tne environment\n",
    "        next_states = env_info.vector_observations         # get next state (# num_agents x state_size)\n",
    "        rewards = env_info.rewards                         # get reward (for each agent)\n",
    "        dones = env_info.local_done                        # see if episode finished\n",
    "        \n",
    "        ma_ddpg.step((states, actor_tensor, rewards, dones, next_states))\n",
    "        \n",
    "        running_score += env_info.rewards                  # update the score (for each agent)\n",
    "        states = next_states                               # roll over states to next time step\n",
    "        if np.any(dones) or t >= rollout_len:   \n",
    "            break\n",
    "            t_history.append[t]\n",
    "            \n",
    "        t += 1\n",
    "\n",
    "    for i in range(num_agents):\n",
    "        agents_scores_history[i].append(running_score[i])\n",
    "        \n",
    "    max_episodic_scores_history.append(np.max(running_score))\n",
    "    \n",
    "    avg_100_score = np.mean(max_episodic_scores_history[-100:])\n",
    "    average_scores_history.append(avg_100_score)\n",
    "\n",
    "    if ma_ddpg.is_training:\n",
    "        if (e+1)%20==0:\n",
    "            print(\"e: {}  score(s): {:.3f} {:.3f}  Avg score(100e): {:.3f}  \"\n",
    "                  \"Actor(g): {:.2f}  Critic(l): {:.2f}  noise: {:.2f}  \"\n",
    "                  \"steps: {}\".format(e+1, np.mean(agents_scores_history[0][-100:]), \n",
    "                                     np.mean(agents_scores_history[1][-100:]), \n",
    "                                     np.mean(avg_100_score),\n",
    "                                     np.mean(ma_ddpg.ag_history), \n",
    "                                     np.mean(ma_ddpg.cl_history),\n",
    "                                     np.mean(ma_ddpg.noise_history), ma_ddpg.t_step))\n",
    "            \n",
    "        if not isSolved and np.mean(avg_100_score) >= 0.5:\n",
    "            print('\\033[32m env solved at episode {}!'.format(e-100))\n",
    "            isSolved = True\n",
    "                   \n",
    "        e+=1\n",
    "    else:\n",
    "        print('\\rFetching experiences... {} '.format(ma_ddpg.t_step), end=\"\")"
   ]
  },
  {
   "cell_type": "code",
   "execution_count": null,
   "metadata": {},
   "outputs": [],
   "source": [
    "saveTrainedModel(ma_ddpg, model_dir + model_name)"
   ]
  },
  {
   "cell_type": "code",
   "execution_count": null,
   "metadata": {},
   "outputs": [],
   "source": [
    "# plot the scores\n",
    "import matplotlib.pyplot as plt\n",
    "%matplotlib inline\n",
    "\n",
    "fig = plt.figure()\n",
    "ax = fig.add_subplot(111)\n",
    "plt.plot(np.arange(len(max_episodic_scores_history)), max_episodic_scores_history)\n",
    "plt.plot(np.arange(len(average_scores_history)), average_scores_history) # plotting t, c separately \n",
    "plt.ylabel('Score')\n",
    "plt.xlabel('Episode #')\n",
    "plt.show()"
   ]
  },
  {
   "cell_type": "code",
   "execution_count": null,
   "metadata": {},
   "outputs": [],
   "source": [
    "len(average_scores_history)"
   ]
  },
  {
   "cell_type": "code",
   "execution_count": null,
   "metadata": {},
   "outputs": [],
   "source": []
  },
  {
   "cell_type": "code",
   "execution_count": null,
   "metadata": {},
   "outputs": [],
   "source": []
  }
 ],
 "metadata": {
  "kernelspec": {
   "display_name": "Python 3",
   "language": "python",
   "name": "python3"
  }
 },
 "nbformat": 4,
 "nbformat_minor": 2
}
