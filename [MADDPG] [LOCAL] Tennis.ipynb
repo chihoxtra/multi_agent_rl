{
 "cells": [
  {
   "cell_type": "markdown",
   "metadata": {},
   "source": [
    "\\#################################################################################################################################################################################################################################################################################################################################################\n",
    "# Collaboration and Competition\n",
    "---\n",
    "\n",
    "In this notebook, you will learn how to use the Unity ML-Agents environment for the third project of the [Deep Reinforcement Learning Nanodegree](https://www.udacity.com/course/deep-reinforcement-learning-nanodegree--nd893) program.\n",
    "\n",
    "### 1. Start the Environment\n",
    "\n",
    "We begin by importing the necessary packages.  If the code cell below returns an error, please revisit the project instructions to double-check that you have installed [Unity ML-Agents](https://github.com/Unity-Technologies/ml-agents/blob/master/docs/Installation.md) and [NumPy](http://www.numpy.org/)."
   ]
  },
  {
   "cell_type": "code",
   "execution_count": 1,
   "metadata": {},
   "outputs": [],
   "source": [
    "from unityagents import UnityEnvironment\n",
    "import os"
   ]
  },
  {
   "cell_type": "markdown",
   "metadata": {},
   "source": [
    "Next, we will start the environment!  **_Before running the code cell below_**, change the `file_name` parameter to match the location of the Unity environment that you downloaded.\n",
    "\n",
    "- **Mac**: `\"path/to/Tennis.app\"`\n",
    "- **Windows** (x86): `\"path/to/Tennis_Windows_x86/Tennis.exe\"`\n",
    "- **Windows** (x86_64): `\"path/to/Tennis_Windows_x86_64/Tennis.exe\"`\n",
    "- **Linux** (x86): `\"path/to/Tennis_Linux/Tennis.x86\"`\n",
    "- **Linux** (x86_64): `\"path/to/Tennis_Linux/Tennis.x86_64\"`\n",
    "- **Linux** (x86, headless): `\"path/to/Tennis_Linux_NoVis/Tennis.x86\"`\n",
    "- **Linux** (x86_64, headless): `\"path/to/Tennis_Linux_NoVis/Tennis.x86_64\"`\n",
    "\n",
    "For instance, if you are using a Mac, then you downloaded `Tennis.app`.  If this file is in the same folder as the notebook, then the line below should appear as follows:\n",
    "```\n",
    "env = UnityEnvironment(file_name=\"Tennis.app\")\n",
    "```"
   ]
  },
  {
   "cell_type": "code",
   "execution_count": 2,
   "metadata": {},
   "outputs": [
    {
     "name": "stderr",
     "output_type": "stream",
     "text": [
      "INFO:unityagents:\n",
      "'Academy' started successfully!\n",
      "Unity Academy name: Academy\n",
      "        Number of Brains: 1\n",
      "        Number of External Brains : 1\n",
      "        Lesson number : 0\n",
      "        Reset Parameters :\n",
      "\t\t\n",
      "Unity brain name: TennisBrain\n",
      "        Number of Visual Observations (per agent): 0\n",
      "        Vector Observation space type: continuous\n",
      "        Vector Observation space size (per agent): 8\n",
      "        Number of stacked Vector Observation: 3\n",
      "        Vector Action space type: continuous\n",
      "        Vector Action space size (per agent): 2\n",
      "        Vector Action descriptions: , \n"
     ]
    }
   ],
   "source": [
    "env = UnityEnvironment(file_name=\"Tennis.app\", worker_id=303, no_graphics=True)"
   ]
  },
  {
   "cell_type": "markdown",
   "metadata": {},
   "source": [
    "Environments contain **_brains_** which are responsible for deciding the actions of their associated agents. Here we check for the first brain available, and set it as the default brain we will be controlling from Python."
   ]
  },
  {
   "cell_type": "markdown",
   "metadata": {},
   "source": [
    "### 2. Examine the State and Action Spaces\n",
    "\n",
    "In this environment, two agents control rackets to bounce a ball over a net. If an agent hits the ball over the net, it receives a reward of +0.1.  If an agent lets a ball hit the ground or hits the ball out of bounds, it receives a reward of -0.01.  Thus, the goal of each agent is to keep the ball in play.\n",
    "\n",
    "The observation space consists of 8 variables corresponding to the position and velocity of the ball and racket. Two continuous actions are available, corresponding to movement toward (or away from) the net, and jumping. \n",
    "\n",
    "Run the code cell below to print some information about the environment."
   ]
  },
  {
   "cell_type": "code",
   "execution_count": 3,
   "metadata": {},
   "outputs": [
    {
     "name": "stdout",
     "output_type": "stream",
     "text": [
      "Number of agents: 2\n",
      "Size of each action: 2\n",
      "There are 2 agents. Each observes a state with length: 24\n",
      "The state for the first agent looks like: [ 0.          0.          0.          0.          0.          0.\n",
      "  0.          0.          0.          0.          0.          0.\n",
      "  0.          0.          0.          0.         -6.65278625 -1.5\n",
      " -0.          0.          6.83172083  6.         -0.          0.        ]\n"
     ]
    }
   ],
   "source": [
    "# get the default brain\n",
    "brain_name = env.brain_names[0]\n",
    "brain = env.brains[brain_name]\n",
    "\n",
    "# reset the environment\n",
    "env_info = env.reset(train_mode=True)[brain_name]\n",
    "\n",
    "# number of agents \n",
    "num_agents = len(env_info.agents)\n",
    "print('Number of agents:', num_agents)\n",
    "\n",
    "# size of each action\n",
    "action_size = brain.vector_action_space_size\n",
    "print('Size of each action:', action_size)\n",
    "\n",
    "# examine the state space \n",
    "states = env_info.vector_observations\n",
    "state_size = states.shape[1]\n",
    "print('There are {} agents. Each observes a state with length: {}'.format(states.shape[0], state_size))\n",
    "print('The state for the first agent looks like:', states[0])"
   ]
  },
  {
   "cell_type": "markdown",
   "metadata": {},
   "source": [
    "### 3. Take Random Actions in the Environment\n",
    "\n",
    "In the next code cell, you will learn how to use the Python API to control the agents and receive feedback from the environment.\n",
    "\n",
    "Once this cell is executed, you will watch the agents' performance, if they select actions at random with each time step.  A window should pop up that allows you to observe the agents.\n",
    "\n",
    "Of course, as part of the project, you'll have to change the code so that the agents are able to use their experiences to gradually choose better actions when interacting with the environment!"
   ]
  },
  {
   "cell_type": "code",
   "execution_count": 4,
   "metadata": {},
   "outputs": [
    {
     "data": {
      "text/plain": [
       "\"\\nfor i in range(1, 2):                                      # play game for 5 episodes\\n    env_info = env.reset(train_mode=False)[brain_name]     # reset the environment    \\n    states = env_info.vector_observations                  # get the current state (for each agent)\\n    scores = np.zeros(num_agents)                          # initialize the score (for each agent)\\n    while True:\\n        actions = np.random.randn(num_agents, action_size) # select an action (for each agent)\\n        actions = np.clip(actions, -1, 1)                  # all actions between -1 and 1\\n        env_info = env.step(actions)[brain_name]           # send all actions to tne environment\\n        next_states = env_info.vector_observations         # get next state (for each agent)\\n        rewards = env_info.rewards                         # get reward (for each agent)\\n        dones = env_info.local_done                        # see if episode finished\\n        scores += env_info.rewards                         # update the score (for each agent)\\n        states = next_states                               # roll over states to next time step\\n        if np.any(dones):                                  # exit loop if episode finished\\n            break\\n    print('Score (max over agents) from episode {}: {}'.format(i, np.max(scores)))\\n\""
      ]
     },
     "execution_count": 4,
     "metadata": {},
     "output_type": "execute_result"
    }
   ],
   "source": [
    "\"\"\"\n",
    "for i in range(1, 2):                                      # play game for 5 episodes\n",
    "    env_info = env.reset(train_mode=False)[brain_name]     # reset the environment    \n",
    "    states = env_info.vector_observations                  # get the current state (for each agent)\n",
    "    scores = np.zeros(num_agents)                          # initialize the score (for each agent)\n",
    "    while True:\n",
    "        actions = np.random.randn(num_agents, action_size) # select an action (for each agent)\n",
    "        actions = np.clip(actions, -1, 1)                  # all actions between -1 and 1\n",
    "        env_info = env.step(actions)[brain_name]           # send all actions to tne environment\n",
    "        next_states = env_info.vector_observations         # get next state (for each agent)\n",
    "        rewards = env_info.rewards                         # get reward (for each agent)\n",
    "        dones = env_info.local_done                        # see if episode finished\n",
    "        scores += env_info.rewards                         # update the score (for each agent)\n",
    "        states = next_states                               # roll over states to next time step\n",
    "        if np.any(dones):                                  # exit loop if episode finished\n",
    "            break\n",
    "    print('Score (max over agents) from episode {}: {}'.format(i, np.max(scores)))\n",
    "\"\"\""
   ]
  },
  {
   "cell_type": "code",
   "execution_count": 5,
   "metadata": {},
   "outputs": [
    {
     "name": "stdout",
     "output_type": "stream",
     "text": [
      "(array([ 0.        ,  0.        ,  0.        ,  0.        ,  0.        ,\n",
      "        0.        ,  0.        ,  0.        ,  0.        ,  0.        ,\n",
      "        0.        ,  0.        ,  0.        ,  0.        ,  0.        ,\n",
      "        0.        , -6.65278625, -1.5       , -0.        ,  0.        ,\n",
      "        6.83172083,  6.        , -0.        ,  0.        ]), 1)\n",
      "(array([ 0.        ,  0.        ,  0.        ,  0.        ,  0.        ,\n",
      "        0.        ,  0.        ,  0.        ,  0.        ,  0.        ,\n",
      "        0.        ,  0.        ,  0.        ,  0.        ,  0.        ,\n",
      "        0.        , -6.4669857 , -1.5       ,  0.        ,  0.        ,\n",
      "       -6.83172083,  6.        ,  0.        ,  0.        ]), 2)\n"
     ]
    }
   ],
   "source": [
    "for i in zip(states,[1,2]):\n",
    "    print(i)"
   ]
  },
  {
   "cell_type": "markdown",
   "metadata": {},
   "source": [
    "When finished, you can close the environment."
   ]
  },
  {
   "cell_type": "code",
   "execution_count": 6,
   "metadata": {},
   "outputs": [],
   "source": [
    "#env.close()"
   ]
  },
  {
   "cell_type": "markdown",
   "metadata": {},
   "source": [
    "### 4. It's Your Turn!\n",
    "\n",
    "Now it's your turn to train your own agent to solve the environment!  When training the environment, set `train_mode=True`, so that the line for resetting the environment looks like the following:\n",
    "```python\n",
    "env_info = env.reset(train_mode=True)[brain_name]\n",
    "```"
   ]
  },
  {
   "cell_type": "code",
   "execution_count": 7,
   "metadata": {},
   "outputs": [],
   "source": [
    "import torch\n",
    "import numpy as np\n",
    "from ma_ddpg import MADDPG\n",
    "\n",
    "def saveTrainedModel(agent, path):\n",
    "    state_dicts = {'model': agent.model_local.state_dict()}\n",
    "    torch.save(state_dicts, path)\n",
    "\n",
    "model_dir = 'saved_models/'\n",
    "model_name = 'multi-agents_' + str(brain_name) + '_' + str(num_agents) + '_agents.pt'\n",
    "\n",
    "os.makedirs(model_dir, exist_ok=True)\n",
    "\n",
    "episode_max = 15000\n",
    "rollout_len = 100\n",
    "\n",
    "ma_ddpg = MADDPG(state_size, action_size, num_agents, seed=40)"
   ]
  },
  {
   "cell_type": "code",
   "execution_count": null,
   "metadata": {},
   "outputs": [
    {
     "name": "stdout",
     "output_type": "stream",
     "text": [
      "Fetching experiences... 9988 \n",
      "Prefetch completed. Training starts! \n",
      "Number of Agents:  2\n",
      "Device:  cpu\n",
      "e: 100  score: 0.000  Avg score(100e): 0.023  Actor(g): 0.001  Critic(l): 0.0003  noise: 9.12  steps: 11851\n",
      "e: 200  score: 0.000  Avg score(100e): 0.018  Actor(g): 0.002  Critic(l): 0.0002  noise: 8.34  steps: 13639\n",
      "e: 300  score: 0.000  Avg score(100e): 0.025  Actor(g): 0.002  Critic(l): 0.0002  noise: 7.57  steps: 15555\n",
      "e: 400  score: 0.000  Avg score(100e): 0.023  Actor(g): 0.003  Critic(l): 0.0002  noise: 6.87  steps: 17500\n",
      "e: 500  score: 0.000  Avg score(100e): 0.034  Actor(g): 0.005  Critic(l): 0.0002  noise: 6.16  steps: 19676\n",
      "e: 600  score: 0.000  Avg score(100e): 0.021  Actor(g): 0.008  Critic(l): 0.0002  noise: 5.63  steps: 21502\n",
      "e: 700  score: 0.000  Avg score(100e): 0.024  Actor(g): 0.008  Critic(l): 0.0001  noise: 5.09  steps: 23508\n",
      "e: 800  score: 0.100  Avg score(100e): 0.022  Actor(g): 0.010  Critic(l): 0.0001  noise: 4.64  steps: 25336\n",
      "e: 900  score: 0.000  Avg score(100e): 0.025  Actor(g): 0.010  Critic(l): 0.0001  noise: 4.21  steps: 27304\n",
      "e: 1000  score: 0.000  Avg score(100e): 0.032  Actor(g): 0.011  Critic(l): 0.0001  noise: 3.80  steps: 29339\n",
      "e: 1100  score: 0.000  Avg score(100e): 0.017  Actor(g): 0.012  Critic(l): 0.0001  noise: 3.49  steps: 31079\n",
      "e: 1200  score: 0.000  Avg score(100e): 0.030  Actor(g): 0.012  Critic(l): 0.0001  noise: 3.15  steps: 33095\n",
      "e: 1300  score: 0.100  Avg score(100e): 0.020  Actor(g): 0.012  Critic(l): 0.0001  noise: 2.88  steps: 34862\n",
      "e: 1400  score: 0.100  Avg score(100e): 0.019  Actor(g): 0.011  Critic(l): 0.0001  noise: 2.63  steps: 36714\n",
      "e: 1500  score: 0.100  Avg score(100e): 0.015  Actor(g): 0.011  Critic(l): 0.0001  noise: 2.41  steps: 38496\n",
      "e: 1600  score: 0.000  Avg score(100e): 0.014  Actor(g): 0.010  Critic(l): 0.0001  noise: 2.21  steps: 40201\n",
      "e: 1700  score: 0.000  Avg score(100e): 0.021  Actor(g): 0.010  Critic(l): 0.0001  noise: 2.02  steps: 42033\n",
      "e: 1800  score: 0.000  Avg score(100e): 0.018  Actor(g): 0.009  Critic(l): 0.0001  noise: 1.84  steps: 43838\n",
      "e: 1900  score: 0.000  Avg score(100e): 0.021  Actor(g): 0.009  Critic(l): 0.0001  noise: 1.67  steps: 45778\n",
      "e: 2000  score: 0.000  Avg score(100e): 0.019  Actor(g): 0.009  Critic(l): 0.0001  noise: 1.53  steps: 47578\n",
      "e: 2100  score: 0.000  Avg score(100e): 0.016  Actor(g): 0.009  Critic(l): 0.0001  noise: 1.40  steps: 49330\n",
      "e: 2200  score: 0.000  Avg score(100e): 0.018  Actor(g): 0.008  Critic(l): 0.0001  noise: 1.28  steps: 51137\n",
      "e: 2300  score: 0.090  Avg score(100e): 0.019  Actor(g): 0.008  Critic(l): 0.0001  noise: 1.17  steps: 52929\n",
      "e: 2400  score: 0.000  Avg score(100e): 0.024  Actor(g): 0.008  Critic(l): 0.0001  noise: 1.06  steps: 54810\n",
      "e: 2500  score: 0.100  Avg score(100e): 0.022  Actor(g): 0.008  Critic(l): 0.0001  noise: 0.97  steps: 56703\n",
      "e: 2600  score: 0.000  Avg score(100e): 0.016  Actor(g): 0.008  Critic(l): 0.0001  noise: 0.88  steps: 58548\n",
      "e: 2700  score: 0.000  Avg score(100e): 0.012  Actor(g): 0.008  Critic(l): 0.0001  noise: 0.81  steps: 60272\n",
      "e: 2800  score: 0.000  Avg score(100e): 0.016  Actor(g): 0.008  Critic(l): 0.0001  noise: 0.74  steps: 62035\n",
      "e: 2900  score: 0.000  Avg score(100e): 0.017  Actor(g): 0.008  Critic(l): 0.0001  noise: 0.68  steps: 63838\n",
      "e: 3000  score: 0.000  Avg score(100e): 0.025  Actor(g): 0.008  Critic(l): 0.0001  noise: 0.61  steps: 65787\n",
      "e: 3100  score: 0.000  Avg score(100e): 0.022  Actor(g): 0.008  Critic(l): 0.0001  noise: 0.56  steps: 67759\n",
      "e: 3200  score: 0.000  Avg score(100e): 0.016  Actor(g): 0.008  Critic(l): 0.0001  noise: 0.51  steps: 69544\n",
      "e: 3300  score: 0.000  Avg score(100e): 0.024  Actor(g): 0.008  Critic(l): 0.0001  noise: 0.46  steps: 71549\n",
      "e: 3400  score: 0.090  Avg score(100e): 0.016  Actor(g): 0.008  Critic(l): 0.0001  noise: 0.42  steps: 73364\n",
      "e: 3500  score: 0.000  Avg score(100e): 0.016  Actor(g): 0.008  Critic(l): 0.0001  noise: 0.38  steps: 75201\n",
      "e: 3600  score: 0.000  Avg score(100e): 0.019  Actor(g): 0.008  Critic(l): 0.0001  noise: 0.35  steps: 77072\n",
      "e: 3700  score: 0.000  Avg score(100e): 0.016  Actor(g): 0.008  Critic(l): 0.0001  noise: 0.32  steps: 78974\n",
      "e: 3800  score: 0.000  Avg score(100e): 0.018  Actor(g): 0.008  Critic(l): 0.0001  noise: 0.29  steps: 80818\n",
      "e: 3900  score: 0.100  Avg score(100e): 0.016  Actor(g): 0.008  Critic(l): 0.0001  noise: 0.26  steps: 82719\n",
      "e: 4000  score: 0.000  Avg score(100e): 0.018  Actor(g): 0.008  Critic(l): 0.0001  noise: 0.24  steps: 84607\n",
      "e: 4100  score: 0.000  Avg score(100e): 0.017  Actor(g): 0.008  Critic(l): 0.0001  noise: 0.22  steps: 86481\n",
      "e: 4200  score: 0.000  Avg score(100e): 0.020  Actor(g): 0.008  Critic(l): 0.0001  noise: 0.20  steps: 88472\n",
      "e: 4300  score: 0.000  Avg score(100e): 0.016  Actor(g): 0.008  Critic(l): 0.0001  noise: 0.18  steps: 90350\n",
      "e: 4400  score: 0.000  Avg score(100e): 0.020  Actor(g): 0.008  Critic(l): 0.0001  noise: 0.16  steps: 92355\n",
      "e: 4500  score: 0.000  Avg score(100e): 0.020  Actor(g): 0.008  Critic(l): 0.0001  noise: 0.15  steps: 94426\n",
      "e: 4600  score: 0.100  Avg score(100e): 0.017  Actor(g): 0.008  Critic(l): 0.0001  noise: 0.13  steps: 96432\n",
      "e: 4700  score: 0.000  Avg score(100e): 0.012  Actor(g): 0.007  Critic(l): 0.0001  noise: 0.12  steps: 98367\n",
      "e: 4800  score: 0.000  Avg score(100e): 0.014  Actor(g): 0.007  Critic(l): 0.0001  noise: 0.11  steps: 100218\n",
      "e: 4900  score: 0.100  Avg score(100e): 0.016  Actor(g): 0.007  Critic(l): 0.0001  noise: 0.10  steps: 102115\n",
      "e: 5000  score: 0.000  Avg score(100e): 0.017  Actor(g): 0.007  Critic(l): 0.0001  noise: 0.10  steps: 104069\n",
      "e: 5100  score: 0.100  Avg score(100e): 0.018  Actor(g): 0.007  Critic(l): 0.0001  noise: 0.10  steps: 106064\n",
      "e: 5200  score: 0.000  Avg score(100e): 0.018  Actor(g): 0.007  Critic(l): 0.0001  noise: 0.10  steps: 108030\n",
      "e: 5300  score: 0.100  Avg score(100e): 0.020  Actor(g): 0.008  Critic(l): 0.0001  noise: 0.10  steps: 110078\n",
      "e: 5400  score: 0.000  Avg score(100e): 0.013  Actor(g): 0.008  Critic(l): 0.0001  noise: 0.10  steps: 111987\n",
      "e: 5500  score: 0.000  Avg score(100e): 0.012  Actor(g): 0.007  Critic(l): 0.0001  noise: 0.10  steps: 113992\n",
      "e: 5600  score: 0.000  Avg score(100e): 0.010  Actor(g): 0.007  Critic(l): 0.0001  noise: 0.10  steps: 116020\n",
      "e: 5700  score: 0.000  Avg score(100e): 0.014  Actor(g): 0.007  Critic(l): 0.0001  noise: 0.10  steps: 117981\n",
      "e: 5800  score: 0.100  Avg score(100e): 0.015  Actor(g): 0.007  Critic(l): 0.0001  noise: 0.10  steps: 119935\n",
      "e: 5900  score: 0.100  Avg score(100e): 0.013  Actor(g): 0.007  Critic(l): 0.0001  noise: 0.10  steps: 121914\n",
      "e: 6000  score: 0.000  Avg score(100e): 0.013  Actor(g): 0.007  Critic(l): 0.0001  noise: 0.10  steps: 123915\n",
      "e: 6100  score: 0.000  Avg score(100e): 0.018  Actor(g): 0.007  Critic(l): 0.0001  noise: 0.10  steps: 125965\n",
      "e: 6200  score: 0.000  Avg score(100e): 0.019  Actor(g): 0.007  Critic(l): 0.0001  noise: 0.10  steps: 128095\n",
      "e: 6300  score: 0.000  Avg score(100e): 0.017  Actor(g): 0.007  Critic(l): 0.0001  noise: 0.10  steps: 130162\n",
      "e: 6400  score: 0.000  Avg score(100e): 0.013  Actor(g): 0.006  Critic(l): 0.0001  noise: 0.10  steps: 132048\n",
      "e: 6500  score: 0.000  Avg score(100e): 0.017  Actor(g): 0.006  Critic(l): 0.0001  noise: 0.10  steps: 134005\n",
      "e: 6600  score: 0.100  Avg score(100e): 0.012  Actor(g): 0.006  Critic(l): 0.0001  noise: 0.10  steps: 135945\n",
      "e: 6700  score: 0.000  Avg score(100e): 0.018  Actor(g): 0.006  Critic(l): 0.0001  noise: 0.10  steps: 137970\n",
      "e: 6800  score: 0.000  Avg score(100e): 0.015  Actor(g): 0.006  Critic(l): 0.0001  noise: 0.10  steps: 139917\n",
      "e: 6900  score: 0.100  Avg score(100e): 0.012  Actor(g): 0.006  Critic(l): 0.0001  noise: 0.10  steps: 141799\n",
      "e: 7000  score: 0.000  Avg score(100e): 0.014  Actor(g): 0.006  Critic(l): 0.0001  noise: 0.10  steps: 143715\n",
      "e: 7100  score: 0.000  Avg score(100e): 0.017  Actor(g): 0.006  Critic(l): 0.0001  noise: 0.10  steps: 145713\n",
      "e: 7200  score: 0.000  Avg score(100e): 0.016  Actor(g): 0.006  Critic(l): 0.0001  noise: 0.10  steps: 147732\n",
      "e: 7300  score: 0.000  Avg score(100e): 0.010  Actor(g): 0.006  Critic(l): 0.0001  noise: 0.10  steps: 149711\n",
      "e: 7400  score: 0.000  Avg score(100e): 0.018  Actor(g): 0.006  Critic(l): 0.0001  noise: 0.10  steps: 151759\n",
      "e: 7500  score: 0.000  Avg score(100e): 0.011  Actor(g): 0.006  Critic(l): 0.0001  noise: 0.10  steps: 153744\n"
     ]
    },
    {
     "name": "stdout",
     "output_type": "stream",
     "text": [
      "e: 7600  score: 0.000  Avg score(100e): 0.019  Actor(g): 0.006  Critic(l): 0.0001  noise: 0.10  steps: 155703\n",
      "e: 7700  score: 0.000  Avg score(100e): 0.012  Actor(g): 0.006  Critic(l): 0.0001  noise: 0.10  steps: 157684\n",
      "e: 7800  score: 0.000  Avg score(100e): 0.013  Actor(g): 0.006  Critic(l): 0.0001  noise: 0.10  steps: 159619\n",
      "e: 7900  score: 0.000  Avg score(100e): 0.014  Actor(g): 0.005  Critic(l): 0.0001  noise: 0.10  steps: 161598\n",
      "e: 8000  score: 0.000  Avg score(100e): 0.013  Actor(g): 0.005  Critic(l): 0.0001  noise: 0.10  steps: 163491\n",
      "e: 8100  score: 0.100  Avg score(100e): 0.018  Actor(g): 0.005  Critic(l): 0.0000  noise: 0.10  steps: 165460\n",
      "e: 8200  score: 0.000  Avg score(100e): 0.014  Actor(g): 0.005  Critic(l): 0.0001  noise: 0.10  steps: 167397\n",
      "e: 8300  score: 0.000  Avg score(100e): 0.013  Actor(g): 0.005  Critic(l): 0.0001  noise: 0.10  steps: 169344\n"
     ]
    }
   ],
   "source": [
    "scores_history = []\n",
    "e = 0\n",
    "isSolved = False\n",
    "\n",
    "while e < episode_max:\n",
    "    \n",
    "    env_info = env.reset(train_mode=True)[brain_name]     # reset the environment    \n",
    "    states = env_info.vector_observations                 # get the current state (for each agent)\n",
    "    running_score = np.zeros(num_agents)                  # initialize the score (for each agent)\n",
    "    \n",
    "    t = 0\n",
    "    \n",
    "    while True:\n",
    "        actions_list = ma_ddpg.act(states)                 # select an action (for each agent)\n",
    "        actor_tensor = torch.stack(actions_list).detach()\n",
    "        actions = np.clip(actor_tensor.numpy(), -1, 1)     # all actions between -1 and 1\n",
    "        env_info = env.step(actions)[brain_name]           # send all actions to tne environment\n",
    "        next_states = env_info.vector_observations         # get next state (for each agent)\n",
    "        rewards = env_info.rewards                         # get reward (for each agent)\n",
    "        dones = env_info.local_done                        # see if episode finished\n",
    "        \n",
    "        ma_ddpg.step((states, actor_tensor, rewards, dones, next_states))\n",
    "        \n",
    "        running_score += env_info.rewards                # update the score (for each agent)\n",
    "        states = next_states                               # roll over states to next time step\n",
    "        if np.any(dones) or t >= rollout_len:   \n",
    "            break\n",
    "        t += 1\n",
    "\n",
    "    episodic_score = np.max(running_score)\n",
    "    scores_history.append(episodic_score)\n",
    "\n",
    "    if ma_ddpg.is_training:\n",
    "        if (e+1)%100==0:\n",
    "            print(\"e: {}  score: {:.3f}  Avg score(100e): {:.3f}  \"\n",
    "                  \"Actor(g): {:.3f}  Critic(l): {:.4f}  noise: {:.2f}  \"\n",
    "                  \"steps: {}\".format(e+1, episodic_score, np.mean(scores_history[-100:]),\n",
    "                                     np.mean(ma_ddpg.ag_history), \n",
    "                                     np.mean(ma_ddpg.cl_history),\n",
    "                                     ma_ddpg.noise_scale, ma_ddpg.t_step))\n",
    "            \n",
    "        if not isSolved and np.mean(scores_history[-100:]) >= 0.5:\n",
    "            print(\"env solved at episode {}!\".format(e))\n",
    "            isSolved = True\n",
    "            saveTrainedModel(ma_ddpg, model_dir + model_name)\n",
    "                   \n",
    "        e+=1\n",
    "    else:\n",
    "        print('\\rFetching experiences... {} '.format(len(ma_ddpg.memory.memory)), end=\"\")\n",
    "       "
   ]
  },
  {
   "cell_type": "code",
   "execution_count": null,
   "metadata": {},
   "outputs": [],
   "source": [
    "# plot the scores\n",
    "import matplotlib.pyplot as plt\n",
    "%matplotlib inline\n",
    "\n",
    "fig = plt.figure()\n",
    "ax = fig.add_subplot(111)\n",
    "plt.plot(np.arange(len(scores_history)), scores_history)\n",
    "plt.ylabel('Score')\n",
    "plt.xlabel('Episode #')\n",
    "plt.show()"
   ]
  },
  {
   "cell_type": "code",
   "execution_count": null,
   "metadata": {},
   "outputs": [],
   "source": []
  },
  {
   "cell_type": "code",
   "execution_count": null,
   "metadata": {},
   "outputs": [],
   "source": []
  }
 ],
 "metadata": {
  "kernelspec": {
   "display_name": "Python 3",
   "language": "python",
   "name": "python3"
  },
  "language_info": {
   "codemirror_mode": {
    "name": "ipython",
    "version": 3
   },
   "file_extension": ".py",
   "mimetype": "text/x-python",
   "name": "python",
   "nbconvert_exporter": "python",
   "pygments_lexer": "ipython3",
   "version": "3.5.5"
  }
 },
 "nbformat": 4,
 "nbformat_minor": 2
}
