{
 "cells": [
  {
   "cell_type": "markdown",
   "metadata": {},
   "source": [
    "\n",
    "\n",
    "\n",
    "\n",
    "#################################################################################################################################################################################################################################################################################################################################################\n",
    "# Collaboration and Competition\n",
    "---\n",
    "\n",
    "In this notebook, you will learn how to use the Unity ML-Agents environment for the third project of the [Deep Reinforcement Learning Nanodegree](https://www.udacity.com/course/deep-reinforcement-learning-nanodegree--nd893) program.\n",
    "\n",
    "### 1. Start the Environment\n",
    "\n",
    "We begin by importing the necessary packages.  If the code cell below returns an error, please revisit the project instructions to double-check that you have installed [Unity ML-Agents](https://github.com/Unity-Technologies/ml-agents/blob/master/docs/Installation.md) and [NumPy](http://www.numpy.org/)."
   ]
  },
  {
   "cell_type": "code",
   "execution_count": 1,
   "metadata": {},
   "outputs": [],
   "source": [
    "from unityagents import UnityEnvironment\n",
    "import os"
   ]
  },
  {
   "cell_type": "markdown",
   "metadata": {},
   "source": [
    "Next, we will start the environment!  **_Before running the code cell below_**, change the `file_name` parameter to match the location of the Unity environment that you downloaded.\n",
    "\n",
    "- **Mac**: `\"path/to/Tennis.app\"`\n",
    "- **Windows** (x86): `\"path/to/Tennis_Windows_x86/Tennis.exe\"`\n",
    "- **Windows** (x86_64): `\"path/to/Tennis_Windows_x86_64/Tennis.exe\"`\n",
    "- **Linux** (x86): `\"path/to/Tennis_Linux/Tennis.x86\"`\n",
    "- **Linux** (x86_64): `\"path/to/Tennis_Linux/Tennis.x86_64\"`\n",
    "- **Linux** (x86, headless): `\"path/to/Tennis_Linux_NoVis/Tennis.x86\"`\n",
    "- **Linux** (x86_64, headless): `\"path/to/Tennis_Linux_NoVis/Tennis.x86_64\"`\n",
    "\n",
    "For instance, if you are using a Mac, then you downloaded `Tennis.app`.  If this file is in the same folder as the notebook, then the line below should appear as follows:\n",
    "```\n",
    "env = UnityEnvironment(file_name=\"Tennis.app\")\n",
    "```"
   ]
  },
  {
   "cell_type": "code",
   "execution_count": 2,
   "metadata": {},
   "outputs": [
    {
     "name": "stderr",
     "output_type": "stream",
     "text": [
      "INFO:unityagents:\n",
      "'Academy' started successfully!\n",
      "Unity Academy name: Academy\n",
      "        Number of Brains: 1\n",
      "        Number of External Brains : 1\n",
      "        Lesson number : 0\n",
      "        Reset Parameters :\n",
      "\t\t\n",
      "Unity brain name: TennisBrain\n",
      "        Number of Visual Observations (per agent): 0\n",
      "        Vector Observation space type: continuous\n",
      "        Vector Observation space size (per agent): 8\n",
      "        Number of stacked Vector Observation: 3\n",
      "        Vector Action space type: continuous\n",
      "        Vector Action space size (per agent): 2\n",
      "        Vector Action descriptions: , \n"
     ]
    }
   ],
   "source": [
    "env = UnityEnvironment(file_name=\"Tennis.app\", worker_id=303, no_graphics=True)"
   ]
  },
  {
   "cell_type": "markdown",
   "metadata": {},
   "source": [
    "Environments contain **_brains_** which are responsible for deciding the actions of their associated agents. Here we check for the first brain available, and set it as the default brain we will be controlling from Python."
   ]
  },
  {
   "cell_type": "markdown",
   "metadata": {},
   "source": [
    "### 2. Examine the State and Action Spaces\n",
    "\n",
    "In this environment, two agents control rackets to bounce a ball over a net. If an agent hits the ball over the net, it receives a reward of +0.1.  If an agent lets a ball hit the ground or hits the ball out of bounds, it receives a reward of -0.01.  Thus, the goal of each agent is to keep the ball in play.\n",
    "\n",
    "The observation space consists of 8 variables corresponding to the position and velocity of the ball and racket. Two continuous actions are available, corresponding to movement toward (or away from) the net, and jumping. \n",
    "\n",
    "Run the code cell below to print some information about the environment."
   ]
  },
  {
   "cell_type": "code",
   "execution_count": 3,
   "metadata": {},
   "outputs": [
    {
     "name": "stdout",
     "output_type": "stream",
     "text": [
      "Number of agents: 2\n",
      "Size of each action: 2\n",
      "There are 2 agents. Each observes a state with length: 24\n",
      "The state for the first agent looks like: [ 0.          0.          0.          0.          0.          0.\n",
      "  0.          0.          0.          0.          0.          0.\n",
      "  0.          0.          0.          0.         -6.65278625 -1.5\n",
      " -0.          0.          6.83172083  6.         -0.          0.        ]\n"
     ]
    }
   ],
   "source": [
    "# get the default brain\n",
    "brain_name = env.brain_names[0]\n",
    "brain = env.brains[brain_name]\n",
    "\n",
    "# reset the environment\n",
    "env_info = env.reset(train_mode=True)[brain_name]\n",
    "\n",
    "# number of agents \n",
    "num_agents = len(env_info.agents)\n",
    "print('Number of agents:', num_agents)\n",
    "\n",
    "# size of each action\n",
    "action_size = brain.vector_action_space_size\n",
    "print('Size of each action:', action_size)\n",
    "\n",
    "# examine the state space \n",
    "states = env_info.vector_observations\n",
    "state_size = states.shape[1]\n",
    "print('There are {} agents. Each observes a state with length: {}'.format(states.shape[0], state_size))\n",
    "print('The state for the first agent looks like:', states[0])"
   ]
  },
  {
   "cell_type": "markdown",
   "metadata": {},
   "source": [
    "### 3. Take Random Actions in the Environment\n",
    "\n",
    "In the next code cell, you will learn how to use the Python API to control the agents and receive feedback from the environment.\n",
    "\n",
    "Once this cell is executed, you will watch the agents' performance, if they select actions at random with each time step.  A window should pop up that allows you to observe the agents.\n",
    "\n",
    "Of course, as part of the project, you'll have to change the code so that the agents are able to use their experiences to gradually choose better actions when interacting with the environment!"
   ]
  },
  {
   "cell_type": "code",
   "execution_count": 4,
   "metadata": {},
   "outputs": [
    {
     "data": {
      "text/plain": [
       "\"\\nfor i in range(1, 2):                                      # play game for 5 episodes\\n    env_info = env.reset(train_mode=False)[brain_name]     # reset the environment    \\n    states = env_info.vector_observations                  # get the current state (for each agent)\\n    scores = np.zeros(num_agents)                          # initialize the score (for each agent)\\n    while True:\\n        actions = np.random.randn(num_agents, action_size) # select an action (for each agent)\\n        actions = np.clip(actions, -1, 1)                  # all actions between -1 and 1\\n        env_info = env.step(actions)[brain_name]           # send all actions to tne environment\\n        next_states = env_info.vector_observations         # get next state (for each agent)\\n        rewards = env_info.rewards                         # get reward (for each agent)\\n        dones = env_info.local_done                        # see if episode finished\\n        scores += env_info.rewards                         # update the score (for each agent)\\n        states = next_states                               # roll over states to next time step\\n        if np.any(dones):                                  # exit loop if episode finished\\n            break\\n    print('Score (max over agents) from episode {}: {}'.format(i, np.max(scores)))\\n\""
      ]
     },
     "execution_count": 4,
     "metadata": {},
     "output_type": "execute_result"
    }
   ],
   "source": [
    "\"\"\"\n",
    "for i in range(1, 2):                                      # play game for 5 episodes\n",
    "    env_info = env.reset(train_mode=False)[brain_name]     # reset the environment    \n",
    "    states = env_info.vector_observations                  # get the current state (for each agent)\n",
    "    scores = np.zeros(num_agents)                          # initialize the score (for each agent)\n",
    "    while True:\n",
    "        actions = np.random.randn(num_agents, action_size) # select an action (for each agent)\n",
    "        actions = np.clip(actions, -1, 1)                  # all actions between -1 and 1\n",
    "        env_info = env.step(actions)[brain_name]           # send all actions to tne environment\n",
    "        next_states = env_info.vector_observations         # get next state (for each agent)\n",
    "        rewards = env_info.rewards                         # get reward (for each agent)\n",
    "        dones = env_info.local_done                        # see if episode finished\n",
    "        scores += env_info.rewards                         # update the score (for each agent)\n",
    "        states = next_states                               # roll over states to next time step\n",
    "        if np.any(dones):                                  # exit loop if episode finished\n",
    "            break\n",
    "    print('Score (max over agents) from episode {}: {}'.format(i, np.max(scores)))\n",
    "\"\"\""
   ]
  },
  {
   "cell_type": "code",
   "execution_count": 5,
   "metadata": {},
   "outputs": [
    {
     "name": "stdout",
     "output_type": "stream",
     "text": [
      "(array([ 0.        ,  0.        ,  0.        ,  0.        ,  0.        ,\n",
      "        0.        ,  0.        ,  0.        ,  0.        ,  0.        ,\n",
      "        0.        ,  0.        ,  0.        ,  0.        ,  0.        ,\n",
      "        0.        , -6.65278625, -1.5       , -0.        ,  0.        ,\n",
      "        6.83172083,  6.        , -0.        ,  0.        ]), 1)\n",
      "(array([ 0.        ,  0.        ,  0.        ,  0.        ,  0.        ,\n",
      "        0.        ,  0.        ,  0.        ,  0.        ,  0.        ,\n",
      "        0.        ,  0.        ,  0.        ,  0.        ,  0.        ,\n",
      "        0.        , -6.4669857 , -1.5       ,  0.        ,  0.        ,\n",
      "       -6.83172083,  6.        ,  0.        ,  0.        ]), 2)\n"
     ]
    }
   ],
   "source": [
    "for i in zip(states,[1,2]):\n",
    "    print(i)"
   ]
  },
  {
   "cell_type": "markdown",
   "metadata": {},
   "source": [
    "When finished, you can close the environment."
   ]
  },
  {
   "cell_type": "code",
   "execution_count": 6,
   "metadata": {},
   "outputs": [],
   "source": [
    "#env.close()"
   ]
  },
  {
   "cell_type": "markdown",
   "metadata": {},
   "source": [
    "### 4. It's Your Turn!\n",
    "\n",
    "Now it's your turn to train your own agent to solve the environment!  When training the environment, set `train_mode=True`, so that the line for resetting the environment looks like the following:\n",
    "```python\n",
    "env_info = env.reset(train_mode=True)[brain_name]\n",
    "```"
   ]
  },
  {
   "cell_type": "code",
   "execution_count": 7,
   "metadata": {},
   "outputs": [],
   "source": [
    "import torch\n",
    "import numpy as np\n",
    "from ma_ddpg import MADDPG\n",
    "\n",
    "model_dir = 'saved_models/'\n",
    "model_name = 'multi-agents_' + str(brain_name) + '_' + str(num_agents) + '_agents.pt'\n",
    "\n",
    "os.makedirs(model_dir, exist_ok=True)\n",
    "\n",
    "episode_max = 15000\n",
    "rollout_len = 1000\n",
    "\n",
    "ma_ddpg = MADDPG(state_size, action_size, num_agents, seed=9394)"
   ]
  },
  {
   "cell_type": "code",
   "execution_count": 8,
   "metadata": {},
   "outputs": [],
   "source": [
    "def saveTrainedModel(agent, path):\n",
    "    state_dicts = {}\n",
    "    for i in range(num_agents):\n",
    "        state_dicts['model_agent' + str(i)] = {'actor_local': ma_ddpg.maddpg_agent[i].actor_local.state_dict(), \n",
    "                                               'critic_local': ma_ddpg.maddpg_agent[i].critic_local.state_dict(), \n",
    "                                               'actor_target': ma_ddpg.maddpg_agent[i].actor_target.state_dict(), \n",
    "                                               'critic_target': ma_ddpg.maddpg_agent[i].critic_target.state_dict()}\n",
    "    torch.save(state_dicts, path)"
   ]
  },
  {
   "cell_type": "code",
   "execution_count": null,
   "metadata": {},
   "outputs": [
    {
     "name": "stdout",
     "output_type": "stream",
     "text": [
      "Fetching experiences... 994 Prefetch completed. Training starts! \n",
      "Number of Agents:  2\n",
      "Device:  cpu\n",
      "e: 20  score(s): 0.001 0.004  Avg score(100e): 0.013  Actor(g): 0.00  Critic(l): 0.50  noise: 1.33  steps: 1279\n",
      "e: 40  score(s): 0.001 0.002  Avg score(100e): 0.011  Actor(g): 0.00  Critic(l): 0.38  noise: 1.61  steps: 1581\n",
      "e: 60  score(s): -0.001 0.001  Avg score(100e): 0.009  Actor(g): 0.00  Critic(l): 0.50  noise: 1.36  steps: 1917\n",
      "e: 80  score(s): -0.002 0.000  Avg score(100e): 0.007  Actor(g): 0.00  Critic(l): 0.33  noise: 1.20  steps: 2201\n",
      "e: 100  score(s): -0.002 -0.001  Avg score(100e): 0.007  Actor(g): 0.00  Critic(l): 0.33  noise: 0.84  steps: 2537\n",
      "e: 120  score(s): -0.001 -0.001  Avg score(100e): 0.008  Actor(g): 0.00  Critic(l): 0.36  noise: 1.02  steps: 2843\n",
      "e: 140  score(s): -0.001 0.001  Avg score(100e): 0.009  Actor(g): 0.00  Critic(l): 0.40  noise: 1.08  steps: 3182\n",
      "e: 160  score(s): -0.001 -0.002  Avg score(100e): 0.006  Actor(g): 0.00  Critic(l): 0.32  noise: 1.01  steps: 3465\n",
      "e: 180  score(s): -0.000 -0.002  Avg score(100e): 0.006  Actor(g): 0.00  Critic(l): 0.34  noise: 0.75  steps: 3750\n",
      "e: 200  score(s): -0.001 -0.003  Avg score(100e): 0.004  Actor(g): 0.00  Critic(l): 0.29  noise: 0.73  steps: 4069\n",
      "e: 220  score(s): -0.002 -0.004  Avg score(100e): 0.003  Actor(g): 0.00  Critic(l): 0.28  noise: 0.83  steps: 4352\n",
      "e: 240  score(s): -0.003 -0.002  Avg score(100e): 0.005  Actor(g): 0.00  Critic(l): 0.31  noise: 0.73  steps: 4719\n",
      "e: 260  score(s): -0.003 -0.000  Avg score(100e): 0.006  Actor(g): 0.00  Critic(l): 0.34  noise: 0.68  steps: 5021\n",
      "e: 280  score(s): -0.003 0.001  Avg score(100e): 0.007  Actor(g): 0.00  Critic(l): 0.31  noise: 0.55  steps: 5359\n",
      "e: 300  score(s): -0.003 0.003  Avg score(100e): 0.008  Actor(g): 0.00  Critic(l): 0.37  noise: 0.55  steps: 5698\n",
      "e: 320  score(s): -0.003 0.003  Avg score(100e): 0.008  Actor(g): 0.00  Critic(l): 0.32  noise: 0.53  steps: 5982\n",
      "e: 340  score(s): -0.002 0.000  Avg score(100e): 0.006  Actor(g): 0.00  Critic(l): 0.30  noise: 0.60  steps: 6299\n",
      "e: 360  score(s): -0.002 -0.001  Avg score(100e): 0.005  Actor(g): 0.00  Critic(l): 0.32  noise: 0.42  steps: 6583\n",
      "e: 380  score(s): -0.003 -0.002  Avg score(100e): 0.004  Actor(g): 0.00  Critic(l): 0.34  noise: 0.42  steps: 6867\n",
      "e: 400  score(s): -0.003 -0.004  Avg score(100e): 0.003  Actor(g): 0.00  Critic(l): 0.24  noise: 0.43  steps: 7169\n",
      "e: 420  score(s): -0.003 -0.002  Avg score(100e): 0.005  Actor(g): 0.00  Critic(l): 0.31  noise: 0.48  steps: 7483\n",
      "e: 440  score(s): -0.004 -0.003  Avg score(100e): 0.003  Actor(g): 0.00  Critic(l): 0.27  noise: 0.33  steps: 7767\n",
      "e: 460  score(s): -0.002 -0.000  Avg score(100e): 0.006  Actor(g): 0.00  Critic(l): 0.33  noise: 0.43  steps: 8128\n",
      "e: 480  score(s): 0.001 0.001  Avg score(100e): 0.008  Actor(g): 0.00  Critic(l): 0.33  noise: 0.34  steps: 8466\n",
      "e: 500  score(s): 0.000 0.003  Avg score(100e): 0.010  Actor(g): 0.00  Critic(l): 0.30  noise: 0.28  steps: 8818\n",
      "e: 520  score(s): 0.001 0.001  Avg score(100e): 0.009  Actor(g): 0.00  Critic(l): 0.25  noise: 0.30  steps: 9118\n",
      "e: 540  score(s): 0.001 0.002  Avg score(100e): 0.010  Actor(g): 0.00  Critic(l): 0.40  noise: 0.27  steps: 9420\n",
      "e: 560  score(s): -0.001 -0.001  Avg score(100e): 0.007  Actor(g): 0.00  Critic(l): 0.28  noise: 0.25  steps: 9705\n",
      "e: 580  score(s): -0.003 -0.002  Avg score(100e): 0.005  Actor(g): 0.00  Critic(l): 0.27  noise: 0.27  steps: 9989\n",
      "e: 600  score(s): -0.004 -0.004  Avg score(100e): 0.002  Actor(g): 0.00  Critic(l): 0.22  noise: 0.23  steps: 10273\n",
      "e: 620  score(s): -0.005 -0.004  Avg score(100e): 0.001  Actor(g): 0.00  Critic(l): 0.31  noise: 0.21  steps: 10557\n",
      "e: 640  score(s): -0.005 -0.004  Avg score(100e): 0.001  Actor(g): 0.00  Critic(l): 0.26  noise: 0.26  steps: 10859\n",
      "e: 660  score(s): -0.005 -0.004  Avg score(100e): 0.001  Actor(g): 0.00  Critic(l): 0.26  noise: 0.16  steps: 11143\n",
      "e: 680  score(s): -0.005 -0.004  Avg score(100e): 0.001  Actor(g): 0.00  Critic(l): 0.19  noise: 0.17  steps: 11427\n",
      "e: 700  score(s): -0.005 -0.003  Avg score(100e): 0.001  Actor(g): 0.00  Critic(l): 0.20  noise: 0.20  steps: 11711\n",
      "e: 720  score(s): -0.005 -0.004  Avg score(100e): 0.001  Actor(g): 0.00  Critic(l): 0.23  noise: 0.18  steps: 11995\n",
      "e: 740  score(s): -0.005 -0.005  Avg score(100e): 0.000  Actor(g): 0.00  Critic(l): 0.28  noise: 0.15  steps: 12279\n",
      "e: 760  score(s): -0.005 -0.005  Avg score(100e): 0.000  Actor(g): 0.00  Critic(l): 0.26  noise: 0.16  steps: 12568\n",
      "e: 780  score(s): -0.005 -0.004  Avg score(100e): 0.000  Actor(g): 0.00  Critic(l): 0.37  noise: 0.13  steps: 12852\n",
      "e: 800  score(s): -0.005 -0.005  Avg score(100e): 0.000  Actor(g): 0.00  Critic(l): 0.24  noise: 0.13  steps: 13136\n",
      "e: 820  score(s): -0.005 -0.005  Avg score(100e): 0.000  Actor(g): 0.00  Critic(l): 0.25  noise: 0.13  steps: 13420\n",
      "e: 840  score(s): -0.005 -0.005  Avg score(100e): 0.000  Actor(g): 0.00  Critic(l): 0.22  noise: 0.11  steps: 13711\n",
      "e: 860  score(s): -0.005 -0.005  Avg score(100e): 0.000  Actor(g): 0.00  Critic(l): 0.24  noise: 0.09  steps: 14000\n",
      "e: 880  score(s): -0.005 -0.005  Avg score(100e): 0.000  Actor(g): 0.00  Critic(l): 0.16  noise: 0.11  steps: 14284\n",
      "e: 900  score(s): -0.005 -0.004  Avg score(100e): 0.001  Actor(g): 0.00  Critic(l): 0.25  noise: 0.11  steps: 14580\n",
      "e: 920  score(s): -0.005 0.000  Avg score(100e): 0.005  Actor(g): 0.00  Critic(l): 0.31  noise: 0.09  steps: 14929\n",
      "e: 940  score(s): -0.004 0.005  Avg score(100e): 0.010  Actor(g): 0.00  Critic(l): 0.31  noise: 0.07  steps: 15334\n",
      "e: 960  score(s): -0.004 0.008  Avg score(100e): 0.011  Actor(g): 0.00  Critic(l): 0.29  noise: 0.08  steps: 15676\n",
      "e: 980  score(s): -0.004 0.012  Avg score(100e): 0.015  Actor(g): 0.00  Critic(l): 0.31  noise: 0.08  steps: 16027\n",
      "e: 1000  score(s): -0.004 0.015  Avg score(100e): 0.018  Actor(g): 0.00  Critic(l): 0.29  noise: 0.07  steps: 16389\n",
      "e: 1020  score(s): -0.004 0.018  Avg score(100e): 0.020  Actor(g): 0.00  Critic(l): 0.41  noise: 0.06  steps: 16783\n",
      "e: 1040  score(s): -0.005 0.023  Avg score(100e): 0.025  Actor(g): 0.00  Critic(l): 0.35  noise: 0.06  steps: 17290\n",
      "e: 1060  score(s): -0.006 0.025  Avg score(100e): 0.027  Actor(g): 0.00  Critic(l): 0.41  noise: 0.05  steps: 17641\n",
      "e: 1080  score(s): -0.006 0.025  Avg score(100e): 0.027  Actor(g): 0.00  Critic(l): 0.30  noise: 0.05  steps: 17991\n",
      "e: 1100  score(s): -0.006 0.026  Avg score(100e): 0.028  Actor(g): 0.00  Critic(l): 0.28  noise: 0.05  steps: 18356\n",
      "e: 1120  score(s): -0.006 0.025  Avg score(100e): 0.027  Actor(g): 0.00  Critic(l): 0.41  noise: 0.05  steps: 18766\n",
      "e: 1140  score(s): -0.005 0.021  Avg score(100e): 0.024  Actor(g): 0.00  Critic(l): 0.32  noise: 0.04  steps: 19180\n",
      "e: 1160  score(s): -0.005 0.025  Avg score(100e): 0.027  Actor(g): 0.00  Critic(l): 0.45  noise: 0.03  steps: 19594\n",
      "e: 1180  score(s): -0.005 0.027  Avg score(100e): 0.029  Actor(g): 0.00  Critic(l): 0.45  noise: 0.03  steps: 20001\n",
      "e: 1200  score(s): -0.004 0.031  Avg score(100e): 0.033  Actor(g): 0.00  Critic(l): 0.41  noise: 0.03  steps: 20470\n",
      "e: 1220  score(s): -0.003 0.031  Avg score(100e): 0.033  Actor(g): 0.00  Critic(l): 0.40  noise: 0.03  steps: 20899\n",
      "e: 1240  score(s): -0.005 0.032  Avg score(100e): 0.033  Actor(g): 0.00  Critic(l): 0.33  noise: 0.03  steps: 21280\n",
      "e: 1260  score(s): -0.004 0.030  Avg score(100e): 0.031  Actor(g): 0.00  Critic(l): 0.49  noise: 0.03  steps: 21704\n",
      "e: 1280  score(s): -0.004 0.031  Avg score(100e): 0.032  Actor(g): 0.00  Critic(l): 0.33  noise: 0.03  steps: 22121\n",
      "e: 1300  score(s): -0.004 0.025  Avg score(100e): 0.026  Actor(g): 0.00  Critic(l): 0.38  noise: 0.03  steps: 22480\n",
      "e: 1320  score(s): -0.004 0.024  Avg score(100e): 0.025  Actor(g): 0.00  Critic(l): 0.49  noise: 0.02  steps: 22876\n",
      "e: 1340  score(s): -0.002 0.025  Avg score(100e): 0.026  Actor(g): 0.00  Critic(l): 0.45  noise: 0.03  steps: 23356\n",
      "e: 1360  score(s): -0.002 0.027  Avg score(100e): 0.029  Actor(g): 0.00  Critic(l): 0.34  noise: 0.03  steps: 23809\n",
      "e: 1380  score(s): -0.002 0.027  Avg score(100e): 0.029  Actor(g): 0.00  Critic(l): 0.46  noise: 0.03  steps: 24205\n",
      "e: 1400  score(s): -0.003 0.033  Avg score(100e): 0.035  Actor(g): 0.00  Critic(l): 0.46  noise: 0.03  steps: 24702\n",
      "e: 1420  score(s): -0.003 0.032  Avg score(100e): 0.034  Actor(g): 0.00  Critic(l): 0.44  noise: 0.03  steps: 25090\n"
     ]
    },
    {
     "name": "stdout",
     "output_type": "stream",
     "text": [
      "e: 1440  score(s): -0.003 0.034  Avg score(100e): 0.036  Actor(g): 0.00  Critic(l): 0.39  noise: 0.02  steps: 25549\n",
      "e: 1460  score(s): -0.002 0.035  Avg score(100e): 0.036  Actor(g): 0.00  Critic(l): 0.50  noise: 0.03  steps: 26016\n",
      "e: 1480  score(s): -0.003 0.037  Avg score(100e): 0.039  Actor(g): 0.00  Critic(l): 0.49  noise: 0.03  steps: 26448\n",
      "e: 1500  score(s): -0.003 0.037  Avg score(100e): 0.039  Actor(g): 0.00  Critic(l): 0.47  noise: 0.03  steps: 26917\n",
      "e: 1520  score(s): -0.003 0.040  Avg score(100e): 0.042  Actor(g): 0.00  Critic(l): 0.54  noise: 0.03  steps: 27349\n",
      "e: 1540  score(s): -0.004 0.037  Avg score(100e): 0.039  Actor(g): 0.00  Critic(l): 0.53  noise: 0.03  steps: 27732\n",
      "e: 1560  score(s): -0.005 0.029  Avg score(100e): 0.031  Actor(g): 0.00  Critic(l): 0.45  noise: 0.02  steps: 28061\n",
      "e: 1580  score(s): -0.005 0.031  Avg score(100e): 0.033  Actor(g): 0.00  Critic(l): 0.45  noise: 0.03  steps: 28519\n",
      "e: 1600  score(s): -0.004 0.028  Avg score(100e): 0.030  Actor(g): 0.00  Critic(l): 0.46  noise: 0.03  steps: 28928\n",
      "e: 1620  score(s): -0.005 0.026  Avg score(100e): 0.028  Actor(g): 0.00  Critic(l): 0.58  noise: 0.03  steps: 29296\n",
      "e: 1640  score(s): -0.005 0.027  Avg score(100e): 0.029  Actor(g): 0.00  Critic(l): 0.54  noise: 0.03  steps: 29707\n",
      "e: 1660  score(s): -0.005 0.035  Avg score(100e): 0.037  Actor(g): 0.00  Critic(l): 0.48  noise: 0.03  steps: 30191\n",
      "e: 1680  score(s): -0.005 0.031  Avg score(100e): 0.033  Actor(g): 0.00  Critic(l): 0.55  noise: 0.04  steps: 30625\n",
      "e: 1700  score(s): -0.004 0.032  Avg score(100e): 0.034  Actor(g): 0.00  Critic(l): 0.55  noise: 0.04  steps: 31099\n",
      "e: 1720  score(s): -0.004 0.035  Avg score(100e): 0.037  Actor(g): 0.00  Critic(l): 0.62  noise: 0.02  steps: 31548\n",
      "e: 1740  score(s): -0.004 0.036  Avg score(100e): 0.037  Actor(g): 0.00  Critic(l): 0.67  noise: 0.03  steps: 31987\n",
      "e: 1760  score(s): -0.004 0.035  Avg score(100e): 0.036  Actor(g): 0.00  Critic(l): 0.53  noise: 0.03  steps: 32416\n",
      "e: 1780  score(s): -0.003 0.037  Avg score(100e): 0.038  Actor(g): 0.00  Critic(l): 0.56  noise: 0.03  steps: 32899\n",
      "e: 1800  score(s): -0.005 0.035  Avg score(100e): 0.036  Actor(g): 0.00  Critic(l): 0.61  noise: 0.03  steps: 33264\n",
      "e: 1820  score(s): -0.004 0.033  Avg score(100e): 0.034  Actor(g): 0.00  Critic(l): 0.70  noise: 0.02  steps: 33690\n",
      "e: 1840  score(s): -0.003 0.031  Avg score(100e): 0.033  Actor(g): 0.00  Critic(l): 0.57  noise: 0.03  steps: 34124\n",
      "e: 1860  score(s): -0.003 0.028  Avg score(100e): 0.029  Actor(g): 0.00  Critic(l): 0.52  noise: 0.03  steps: 34487\n",
      "e: 1880  score(s): -0.004 0.024  Avg score(100e): 0.025  Actor(g): 0.00  Critic(l): 0.69  noise: 0.03  steps: 34866\n",
      "e: 1900  score(s): -0.004 0.026  Avg score(100e): 0.028  Actor(g): 0.00  Critic(l): 0.53  noise: 0.03  steps: 35272\n",
      "e: 1920  score(s): -0.005 0.028  Avg score(100e): 0.030  Actor(g): 0.00  Critic(l): 0.50  noise: 0.03  steps: 35708\n",
      "e: 1940  score(s): -0.006 0.028  Avg score(100e): 0.029  Actor(g): 0.00  Critic(l): 0.64  noise: 0.03  steps: 36087\n",
      "e: 1960  score(s): -0.006 0.028  Avg score(100e): 0.029  Actor(g): 0.00  Critic(l): 0.55  noise: 0.03  steps: 36468\n",
      "e: 1980  score(s): -0.004 0.034  Avg score(100e): 0.035  Actor(g): 0.00  Critic(l): 0.64  noise: 0.03  steps: 37045\n",
      "e: 2000  score(s): -0.004 0.031  Avg score(100e): 0.033  Actor(g): 0.00  Critic(l): 0.64  noise: 0.03  steps: 37415\n",
      "e: 2020  score(s): -0.004 0.030  Avg score(100e): 0.032  Actor(g): 0.00  Critic(l): 0.57  noise: 0.03  steps: 37811\n",
      "e: 2040  score(s): -0.004 0.034  Avg score(100e): 0.035  Actor(g): 0.00  Critic(l): 0.62  noise: 0.02  steps: 38277\n",
      "e: 2060  score(s): -0.004 0.034  Avg score(100e): 0.035  Actor(g): 0.00  Critic(l): 0.52  noise: 0.03  steps: 38686\n",
      "e: 2080  score(s): -0.005 0.033  Avg score(100e): 0.034  Actor(g): 0.00  Critic(l): 0.73  noise: 0.03  steps: 39181\n",
      "e: 2100  score(s): -0.005 0.035  Avg score(100e): 0.036  Actor(g): 0.00  Critic(l): 0.71  noise: 0.02  steps: 39602\n",
      "e: 2120  score(s): -0.005 0.039  Avg score(100e): 0.040  Actor(g): 0.00  Critic(l): 0.57  noise: 0.03  steps: 40068\n",
      "e: 2140  score(s): -0.006 0.036  Avg score(100e): 0.036  Actor(g): 0.00  Critic(l): 0.63  noise: 0.03  steps: 40449\n",
      "e: 2160  score(s): -0.005 0.040  Avg score(100e): 0.041  Actor(g): 0.00  Critic(l): 0.70  noise: 0.03  steps: 40963\n",
      "e: 2180  score(s): -0.005 0.040  Avg score(100e): 0.040  Actor(g): 0.00  Critic(l): 0.62  noise: 0.03  steps: 41453\n",
      "e: 2200  score(s): -0.002 0.042  Avg score(100e): 0.042  Actor(g): 0.00  Critic(l): 0.70  noise: 0.03  steps: 41931\n",
      "e: 2220  score(s): -0.002 0.038  Avg score(100e): 0.039  Actor(g): 0.00  Critic(l): 0.69  noise: 0.03  steps: 42365\n",
      "e: 2240  score(s): -0.002 0.038  Avg score(100e): 0.040  Actor(g): 0.00  Critic(l): 0.71  noise: 0.03  steps: 42747\n",
      "e: 2260  score(s): -0.000 0.038  Avg score(100e): 0.040  Actor(g): 0.00  Critic(l): 0.58  noise: 0.03  steps: 43267\n",
      "e: 2280  score(s): -0.000 0.037  Avg score(100e): 0.039  Actor(g): 0.00  Critic(l): 0.61  noise: 0.02  steps: 43727\n",
      "e: 2300  score(s): -0.002 0.037  Avg score(100e): 0.039  Actor(g): 0.00  Critic(l): 0.81  noise: 0.03  steps: 44154\n",
      "e: 2320  score(s): -0.001 0.039  Avg score(100e): 0.041  Actor(g): 0.00  Critic(l): 0.60  noise: 0.03  steps: 44629\n",
      "e: 2340  score(s): -0.001 0.041  Avg score(100e): 0.043  Actor(g): 0.00  Critic(l): 0.62  noise: 0.03  steps: 45040\n",
      "e: 2360  score(s): -0.002 0.040  Avg score(100e): 0.042  Actor(g): 0.00  Critic(l): 0.65  noise: 0.04  steps: 45532\n",
      "e: 2380  score(s): -0.003 0.042  Avg score(100e): 0.044  Actor(g): 0.00  Critic(l): 0.76  noise: 0.03  steps: 46016\n",
      "e: 2400  score(s): -0.001 0.038  Avg score(100e): 0.040  Actor(g): 0.00  Critic(l): 0.65  noise: 0.03  steps: 46436\n",
      "e: 2420  score(s): -0.002 0.037  Avg score(100e): 0.038  Actor(g): 0.00  Critic(l): 0.70  noise: 0.03  steps: 46895\n",
      "e: 2440  score(s): -0.002 0.034  Avg score(100e): 0.036  Actor(g): 0.00  Critic(l): 0.66  noise: 0.03  steps: 47282\n",
      "e: 2460  score(s): -0.002 0.033  Avg score(100e): 0.035  Actor(g): 0.00  Critic(l): 0.68  noise: 0.03  steps: 47770\n",
      "e: 2480  score(s): -0.002 0.033  Avg score(100e): 0.035  Actor(g): 0.00  Critic(l): 0.72  noise: 0.03  steps: 48290\n",
      "e: 2500  score(s): -0.003 0.038  Avg score(100e): 0.039  Actor(g): 0.00  Critic(l): 0.67  noise: 0.02  steps: 48795\n",
      "e: 2520  score(s): -0.003 0.038  Avg score(100e): 0.039  Actor(g): 0.00  Critic(l): 0.58  noise: 0.03  steps: 49208\n",
      "e: 2540  score(s): -0.004 0.041  Avg score(100e): 0.042  Actor(g): 0.00  Critic(l): 0.71  noise: 0.03  steps: 49659\n",
      "e: 2560  score(s): -0.005 0.039  Avg score(100e): 0.040  Actor(g): 0.00  Critic(l): 0.71  noise: 0.03  steps: 50037\n",
      "e: 2580  score(s): -0.005 0.035  Avg score(100e): 0.036  Actor(g): 0.00  Critic(l): 0.68  noise: 0.03  steps: 50437\n",
      "e: 2600  score(s): -0.006 0.035  Avg score(100e): 0.036  Actor(g): 0.00  Critic(l): 0.69  noise: 0.03  steps: 50886\n",
      "e: 2620  score(s): -0.005 0.037  Avg score(100e): 0.038  Actor(g): 0.00  Critic(l): 0.72  noise: 0.03  steps: 51415\n",
      "e: 2640  score(s): -0.003 0.036  Avg score(100e): 0.037  Actor(g): 0.00  Critic(l): 0.78  noise: 0.03  steps: 51854\n",
      "e: 2660  score(s): -0.004 0.035  Avg score(100e): 0.036  Actor(g): 0.00  Critic(l): 0.65  noise: 0.03  steps: 52218\n",
      "e: 2680  score(s): -0.003 0.035  Avg score(100e): 0.036  Actor(g): 0.00  Critic(l): 0.75  noise: 0.04  steps: 52673\n",
      "e: 2700  score(s): -0.004 0.033  Avg score(100e): 0.035  Actor(g): 0.00  Critic(l): 0.76  noise: 0.03  steps: 53168\n",
      "e: 2720  score(s): -0.004 0.033  Avg score(100e): 0.035  Actor(g): 0.00  Critic(l): 0.74  noise: 0.02  steps: 53637\n",
      "e: 2740  score(s): -0.005 0.029  Avg score(100e): 0.031  Actor(g): 0.00  Critic(l): 0.59  noise: 0.03  steps: 54010\n",
      "e: 2760  score(s): -0.005 0.036  Avg score(100e): 0.038  Actor(g): 0.00  Critic(l): 0.76  noise: 0.03  steps: 54487\n",
      "e: 2780  score(s): -0.005 0.035  Avg score(100e): 0.037  Actor(g): 0.00  Critic(l): 0.70  noise: 0.02  steps: 54868\n",
      "e: 2800  score(s): -0.005 0.036  Avg score(100e): 0.037  Actor(g): 0.00  Critic(l): 0.87  noise: 0.03  steps: 55305\n",
      "e: 2820  score(s): -0.005 0.037  Avg score(100e): 0.038  Actor(g): 0.00  Critic(l): 0.72  noise: 0.03  steps: 55803\n",
      "e: 2840  score(s): -0.004 0.038  Avg score(100e): 0.040  Actor(g): 0.00  Critic(l): 0.75  noise: 0.03  steps: 56206\n"
     ]
    },
    {
     "name": "stdout",
     "output_type": "stream",
     "text": [
      "e: 2860  score(s): -0.004 0.036  Avg score(100e): 0.037  Actor(g): 0.00  Critic(l): 0.60  noise: 0.02  steps: 56676\n",
      "e: 2880  score(s): -0.003 0.040  Avg score(100e): 0.041  Actor(g): 0.00  Critic(l): 0.73  noise: 0.03  steps: 57170\n",
      "e: 2900  score(s): -0.002 0.039  Avg score(100e): 0.040  Actor(g): 0.00  Critic(l): 0.64  noise: 0.03  steps: 57625\n",
      "e: 2920  score(s): -0.001 0.038  Avg score(100e): 0.039  Actor(g): 0.00  Critic(l): 0.70  noise: 0.03  steps: 58112\n",
      "e: 2940  score(s): -0.000 0.040  Avg score(100e): 0.040  Actor(g): 0.00  Critic(l): 0.71  noise: 0.04  steps: 58560\n",
      "e: 2960  score(s): -0.001 0.037  Avg score(100e): 0.039  Actor(g): 0.00  Critic(l): 0.79  noise: 0.03  steps: 58993\n",
      "e: 2980  score(s): -0.002 0.038  Avg score(100e): 0.040  Actor(g): 0.00  Critic(l): 0.66  noise: 0.02  steps: 59495\n",
      "e: 3000  score(s): -0.003 0.042  Avg score(100e): 0.043  Actor(g): 0.00  Critic(l): 0.86  noise: 0.04  steps: 59999\n",
      "e: 3020  score(s): -0.004 0.040  Avg score(100e): 0.041  Actor(g): 0.00  Critic(l): 0.73  noise: 0.03  steps: 60448\n",
      "e: 3040  score(s): -0.004 0.039  Avg score(100e): 0.040  Actor(g): 0.00  Critic(l): 0.64  noise: 0.03  steps: 60851\n",
      "e: 3060  score(s): -0.004 0.037  Avg score(100e): 0.038  Actor(g): 0.00  Critic(l): 0.72  noise: 0.03  steps: 61236\n",
      "e: 3080  score(s): -0.003 0.032  Avg score(100e): 0.034  Actor(g): 0.00  Critic(l): 0.78  noise: 0.03  steps: 61654\n",
      "e: 3100  score(s): -0.002 0.028  Avg score(100e): 0.030  Actor(g): 0.00  Critic(l): 0.79  noise: 0.03  steps: 62119\n",
      "e: 3120  score(s): -0.003 0.029  Avg score(100e): 0.031  Actor(g): 0.00  Critic(l): 0.72  noise: 0.03  steps: 62540\n",
      "e: 3140  score(s): -0.003 0.029  Avg score(100e): 0.031  Actor(g): 0.00  Critic(l): 0.77  noise: 0.03  steps: 62920\n",
      "e: 3160  score(s): -0.003 0.033  Avg score(100e): 0.035  Actor(g): 0.00  Critic(l): 0.81  noise: 0.04  steps: 63351\n",
      "e: 3180  score(s): -0.003 0.035  Avg score(100e): 0.036  Actor(g): 0.00  Critic(l): 0.71  noise: 0.03  steps: 63788\n",
      "e: 3200  score(s): -0.005 0.041  Avg score(100e): 0.042  Actor(g): 0.00  Critic(l): 0.74  noise: 0.03  steps: 64325\n",
      "e: 3220  score(s): -0.004 0.041  Avg score(100e): 0.042  Actor(g): 0.00  Critic(l): 0.82  noise: 0.04  steps: 64814\n",
      "e: 3240  score(s): -0.002 0.046  Avg score(100e): 0.048  Actor(g): 0.00  Critic(l): 0.78  noise: 0.03  steps: 65334\n",
      "e: 3260  score(s): -0.000 0.040  Avg score(100e): 0.042  Actor(g): 0.00  Critic(l): 0.76  noise: 0.03  steps: 65716\n"
     ]
    }
   ],
   "source": [
    "agents_scores_history = [[] for _ in range(num_agents)]\n",
    "max_episodic_scores_history = []\n",
    "average_scores_history = []\n",
    "t_history = []\n",
    "e = 0\n",
    "isSolved = False\n",
    "\n",
    "while e < episode_max:\n",
    "    \n",
    "    env_info = env.reset(train_mode=True)[brain_name]      # reset the environment    \n",
    "    states = env_info.vector_observations                  # get the current state np array :num_agents x state_size\n",
    "    running_score = np.zeros(num_agents)                   # initialize the score (for each agent)\n",
    "    \n",
    "    t = 0\n",
    "    \n",
    "    while True:\n",
    "        actions_list = ma_ddpg.acts(states)                # select an action (for each agent)\n",
    "        actor_tensor = torch.stack(actions_list).cpu().detach()\n",
    "        actions = np.clip(actor_tensor.numpy(), -1, 1)     # all actions between -1 and 1 #num_agents x action_size\n",
    "        env_info = env.step(actions)[brain_name]           # send all actions to tne environment\n",
    "        next_states = env_info.vector_observations         # get next state (# num_agents x state_size)\n",
    "        rewards = env_info.rewards                         # get reward (for each agent)\n",
    "        dones = env_info.local_done                        # see if episode finished\n",
    "        \n",
    "        ma_ddpg.step((states, actor_tensor, rewards, dones, next_states))\n",
    "        \n",
    "        running_score += env_info.rewards                  # update the score (for each agent)\n",
    "        states = next_states                               # roll over states to next time step\n",
    "        if np.any(dones) or t >= rollout_len:   \n",
    "            break\n",
    "            t_history.append[t]\n",
    "            \n",
    "        t += 1\n",
    "\n",
    "    for i in range(num_agents):\n",
    "        agents_scores_history[i].append(running_score[i])\n",
    "        \n",
    "    max_episodic_scores_history.append(np.max(running_score))\n",
    "    \n",
    "    avg_100_score = np.mean(max_episodic_scores_history[-100:])\n",
    "    average_scores_history.append(avg_100_score)\n",
    "\n",
    "    if ma_ddpg.is_training:\n",
    "        if (e+1)%20==0:\n",
    "            print(\"e: {}  score(s): {:.3f} {:.3f}  Avg score(100e): {:.3f}  \"\n",
    "                  \"Actor(g): {:.2f}  Critic(l): {:.2f}  noise: {:.2f}  \"\n",
    "                  \"steps: {}\".format(e+1, np.mean(agents_scores_history[0][-100:]), \n",
    "                                     np.mean(agents_scores_history[1][-100:]), \n",
    "                                     np.mean(avg_100_score),\n",
    "                                     np.mean(ma_ddpg.ag_history), \n",
    "                                     np.mean(ma_ddpg.cl_history),\n",
    "                                     np.mean(ma_ddpg.noise_history), ma_ddpg.t_step))\n",
    "            \n",
    "        if not isSolved and np.mean(avg_100_score) >= 0.5:\n",
    "            print('\\033[32m env solved at episode {}!'.format(e-100))\n",
    "            isSolved = True\n",
    "                   \n",
    "        e+=1\n",
    "    else:\n",
    "        print('\\rFetching experiences... {} '.format(ma_ddpg.t_step), end=\"\")"
   ]
  },
  {
   "cell_type": "code",
   "execution_count": null,
   "metadata": {},
   "outputs": [],
   "source": [
    "saveTrainedModel(ma_ddpg, model_dir + model_name)"
   ]
  },
  {
   "cell_type": "code",
   "execution_count": null,
   "metadata": {},
   "outputs": [],
   "source": [
    "# plot the scores\n",
    "import matplotlib.pyplot as plt\n",
    "%matplotlib inline\n",
    "\n",
    "fig = plt.figure()\n",
    "ax = fig.add_subplot(111)\n",
    "plt.plot(np.arange(len(max_episodic_scores_history)), max_episodic_scores_history)\n",
    "plt.plot(np.arange(len(average_scores_history)), average_scores_history) # plotting t, c separately \n",
    "plt.ylabel('Score')\n",
    "plt.xlabel('Episode #')\n",
    "plt.show()"
   ]
  },
  {
   "cell_type": "code",
   "execution_count": null,
   "metadata": {},
   "outputs": [],
   "source": [
    "len(average_scores_history)"
   ]
  },
  {
   "cell_type": "code",
   "execution_count": null,
   "metadata": {},
   "outputs": [],
   "source": []
  },
  {
   "cell_type": "code",
   "execution_count": null,
   "metadata": {},
   "outputs": [],
   "source": []
  }
 ],
 "metadata": {
  "kernelspec": {
   "display_name": "Python 3",
   "language": "python",
   "name": "python3"
  },
  "language_info": {
   "codemirror_mode": {
    "name": "ipython",
    "version": 3
   },
   "file_extension": ".py",
   "mimetype": "text/x-python",
   "name": "python",
   "nbconvert_exporter": "python",
   "pygments_lexer": "ipython3",
   "version": "3.5.5"
  }
 },
 "nbformat": 4,
 "nbformat_minor": 2
}
